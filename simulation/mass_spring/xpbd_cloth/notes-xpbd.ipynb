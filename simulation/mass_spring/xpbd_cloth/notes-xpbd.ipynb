{
 "cells": [
  {
   "cell_type": "markdown",
   "metadata": {},
   "source": [
    "Potential energy: $U=\\frac{1}{2}C^Tk_sC \\implies F_s=-\\nabla C^Tk_sC$\n",
    "\n",
    "Dissipation potential: $D=\\frac{1}{2}v^T\\nabla C^Tk_d\\nabla Cv \\implies F_d=-\\nabla C^Tk_d\\nabla Cv$\n",
    "\n",
    "Newton's second law: $Ma=F \\implies M\\Delta v/\\Delta t=F \\implies M(x_1-x_0)=(F_s+F_d)\\Delta t^2$\n",
    "\n",
    "Lagrange multipliers: $\\lambda_s=-k_sC\\Delta t^2,\\ \\lambda_d=-k_d\\nabla Cv\\Delta t^2 \\implies M(x_1-x_0)=\\nabla C^T(\\lambda_s+\\lambda_d)$\n",
    "\n",
    "Note that $\\nabla C$ is a row vector, $x$ is a column vector, $\\lambda$ is a scalar, and $M$ is a diagonal matrix."
   ]
  },
  {
   "cell_type": "markdown",
   "metadata": {},
   "source": [
    "\n",
    "Let $\\lambda=\\lambda_s+\\lambda_d$. From the above equation:\n",
    "\n",
    "$M(x_1-x_0)-\\nabla C^T\\lambda_1=0$\n",
    "\n",
    "$M\\Delta x-\\nabla C^T(\\lambda+\\Delta\\lambda)=0$\n",
    "\n",
    "$M\\Delta x-\\nabla C^T\\Delta\\lambda = \\nabla C^T\\lambda$\n",
    "\n"
   ]
  },
  {
   "cell_type": "markdown",
   "metadata": {},
   "source": [
    "From the definition of $\\lambda$:\n",
    "\n",
    "$k_s\\left(C_1+\\frac{1}{k_s\\Delta t^2}\\lambda_{s1}\\right) + k_d\\left(\\nabla Cv_1 + \\frac{1}{k_d\\Delta t^2}\\lambda_{d1}\\right)=0$\n",
    "\n",
    "$k_s(C+\\nabla C\\Delta x) + k_d\\nabla C\\left(v+\\frac{\\Delta x}{\\Delta t}\\right) + \\frac{1}{\\Delta t^2}(\\lambda+\\Delta\\lambda)=0$\n",
    "\n",
    "$\\left(k_s+\\frac{k_d}{\\Delta t}\\right)\\nabla C\\Delta x + \\frac{1}{\\Delta t^2}\\Delta\\lambda = -\\left(k_sC+k_d\\nabla Cv+\\frac{1}{\\Delta t^2}\\lambda\\right)$"
   ]
  },
  {
   "cell_type": "markdown",
   "metadata": {},
   "source": [
    "Assume $\\nabla C^T\\lambda=0$:\n",
    "\n",
    "$M\\Delta x=\\nabla C^T\\Delta\\lambda \\implies \\Delta x=M^{-1}\\nabla C^T\\Delta\\lambda$\n",
    "\n",
    "$\\left(k_s+\\frac{k_d}{\\Delta t}\\right)\\nabla C M^{-1}\\nabla C^T\\Delta\\lambda + \\frac{1}{\\Delta t^2}\\Delta\\lambda = -\\left(k_sC+k_d\\nabla Cv+\\frac{1}{\\Delta t^2}\\lambda\\right)$\n",
    "\n",
    "$\\left(k_t\\nabla C M^{-1}\\nabla C^T+\\frac{1}{\\Delta t^2}\\right)\\Delta\\lambda = -\\left(k_sC+k_d\\nabla Cv+\\frac{1}{\\Delta t^2}\\lambda\\right)$\n",
    "\n",
    "Solve for $\\Delta\\lambda$ and then $\\Delta x$ and $v$ using Gauss-Seidel. Update $C$ and $\\nabla C$ at each iteration step to fake Newton-Raphson.\n",
    "\n",
    "Test: does not converge to a Euler solution"
   ]
  },
  {
   "cell_type": "markdown",
   "metadata": {},
   "source": [
    "For general $\\nabla C^T\\lambda\\ne0$:\n",
    "\n",
    "$M\\Delta x-\\nabla C^T\\Delta\\lambda = \\nabla C^T\\lambda$\n",
    "\n",
    "$k_t\\nabla C\\Delta x + \\frac{1}{\\Delta t^2}\\Delta\\lambda = C_t(x,\\lambda)$\n",
    "\n",
    "$\\begin{bmatrix}M & -\\nabla C^T \\\\ k_t\\nabla C & \\frac{1}{\\Delta t^2}\\end{bmatrix} \\begin{bmatrix}\\Delta x\\\\\\Delta\\lambda\\end{bmatrix} = \\begin{bmatrix}\\nabla C^T\\lambda\\\\C_t(x,\\lambda)\\end{bmatrix}$\n",
    "\n",
    "$\\Delta\\lambda = \\begin{vmatrix}M & -\\nabla C^T \\\\ k_t\\nabla C & \\frac{1}{\\Delta t^2}\\end{vmatrix}^{-1}\\begin{vmatrix}M & \\nabla C^T\\lambda \\\\ k_t\\nabla C & C_t\\end{vmatrix}$\n",
    "\n",
    "$\\Delta x=M^{-1}\\nabla C^T(\\lambda+\\Delta\\lambda)$\n",
    "\n",
    "Test: not converging + unstable"
   ]
  }
 ],
 "metadata": {
  "kernelspec": {
   "display_name": "Python 3.9.1 64-bit",
   "language": "python",
   "name": "python3"
  },
  "language_info": {
   "name": "python",
   "version": "3.9.1"
  },
  "orig_nbformat": 4,
  "vscode": {
   "interpreter": {
    "hash": "ecbc50d119a157bb487b95c6f0c652477a8946cf907138d6308c321abbbf8dc7"
   }
  }
 },
 "nbformat": 4,
 "nbformat_minor": 2
}
