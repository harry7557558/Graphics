{
 "cells": [
  {
   "cell_type": "markdown",
   "metadata": {},
   "source": [
    "Elastic potential energy of a continuum described in https://en.wikipedia.org/wiki/Elastic_energy#Continuum_systems\n",
    "\n",
    "Try to figure out how to read Einstein notation."
   ]
  },
  {
   "cell_type": "code",
   "execution_count": 1,
   "metadata": {},
   "outputs": [],
   "source": [
    "import numpy as np"
   ]
  },
  {
   "cell_type": "markdown",
   "metadata": {},
   "source": [
    "$(\\delta_{ij}\\delta_{kl})\\epsilon_{ij}\\epsilon_{kl}$ - trace squared?\n",
    "\n",
    "c is 1 when:\n",
    " - i==j==k==l -> sum of square of diagonal elements\n",
    " - i==j and k==l -> twice the sum of product of diagonal elements with different indices"
   ]
  },
  {
   "cell_type": "code",
   "execution_count": 4,
   "metadata": {},
   "outputs": [],
   "source": [
    "c = np.einsum('ij,kl->ijkl', np.eye(3), np.eye(3))\n",
    "e = [[1,2,3],[4,5,6],[7,8,9]]\n",
    "assert np.einsum(\"ijkl,ij,kl->\", c, e, e) == 225\n",
    "e = [[1,0,0],[0,2,0],[0,0,3]]\n",
    "assert np.einsum(\"ijkl,ij,kl->\", c, e, e) == 36\n",
    "e = np.array([[1,100,99],[-99,2,100],[-100,-9999.99,3]])\n",
    "assert np.einsum(\"ijkl,ij,kl->\", c, e, e) == 36\n",
    "assert np.einsum(\"ijkl,ij,kl->\", c, -e, -e) == 36"
   ]
  },
  {
   "cell_type": "markdown",
   "metadata": {},
   "source": [
    "$(\\delta_{ik}\\delta_{jl})\\epsilon_{ij}\\epsilon_{kl}$ - sum of squares of elements?\n",
    "\n",
    "c is 1 when:\n",
    " - i==k and j==l"
   ]
  },
  {
   "cell_type": "code",
   "execution_count": 5,
   "metadata": {},
   "outputs": [],
   "source": [
    "c = np.einsum('ik,jl->ijkl', np.eye(3), np.eye(3))\n",
    "e = np.array([[1,2,3],[4,5,6],[7,8,9]])\n",
    "assert np.einsum(\"ijkl,ij,kl->\", c, e, e) == np.sum(e*e)\n",
    "e = np.array([[1,100,99],[-99,2,100],[-100,-9999.99,3]])\n",
    "assert np.einsum(\"ijkl,ij,kl->\", c, e, e) == np.sum(e*e)"
   ]
  },
  {
   "cell_type": "markdown",
   "metadata": {},
   "source": [
    "$(\\delta_{il}\\delta_{jk})\\epsilon_{ij}\\epsilon_{kl}$ - sum of products of e[i][j] and e[j][i]?\n",
    "\n",
    "c is 1 when:\n",
    " - i==l and j==k"
   ]
  },
  {
   "cell_type": "code",
   "execution_count": 7,
   "metadata": {},
   "outputs": [],
   "source": [
    "c = np.einsum('il,jk->ijkl', np.eye(3), np.eye(3))\n",
    "e = np.array([[1,2,3],[4,5,6],[7,8,9]])\n",
    "assert np.einsum(\"ijkl,ij,kl->\", c, e, e) == np.sum(e*e.T)\n",
    "e = np.array([[1,100,99],[-99,2,100],[-100,-9999.99,3]])\n",
    "assert np.einsum(\"ijkl,ij,kl->\", c, e, e) == np.sum(e*e.T)"
   ]
  },
  {
   "cell_type": "markdown",
   "metadata": {},
   "source": [
    "Elastic potential energy due to deformation:\n",
    "\n",
    "$U = \\frac{1}{2}V_0\\left(\\lambda\\delta_{ij}\\delta_{kl}+\\mu(\\delta_{ik}\\delta_{jl}+\\delta_{il}\\delta{jk})\\right)\\epsilon_{ij}\\epsilon_{kl}$\n",
    "\n",
    "$U = \\frac{1}{2}V_0\\left(\\lambda\\sum_{ij}\\epsilon_{ii}\\epsilon_{jj}+\\mu\\left(\\sum_{ij}\\epsilon_{ij}^2+\\sum_{ij}\\epsilon_{ij}\\epsilon_{ji}\\right)\\right)$\n",
    "\n",
    "$\\lambda = K-\\frac{2}{3}G,\\ \\mu = G$ where $K$ is the bulk modulus and $G$ is the shear modulus. It requires investigation whether this formula is 3D-only or works in any number of dimensions."
   ]
  },
  {
   "cell_type": "markdown",
   "metadata": {},
   "source": [
    "https://ocw.mit.edu/courses/2-002-mechanics-and-materials-ii-spring-2004/f7b561fbe8762ff73da9236e6c0fff73_lec7.pdf\n",
    "\n",
    "Deformation gradient: $\\frac{\\partial u}{\\partial x}$\n",
    "\n",
    "$x_1 = x_0 + u \\implies \\Delta x = \\frac{\\partial u}{\\partial x} x_0 \\implies \\frac{\\partial u}{\\partial x} = \\Delta x x_0^{-1}$\n",
    "\n",
    " - $\\mathbf{x} = \\begin{bmatrix}x_1 & x_2\\end{bmatrix}$\n",
    " - $\\frac{\\partial u}{\\partial x} = \\begin{bmatrix}\\frac{\\partial u}{\\partial x_x}&\\frac{\\partial u}{\\partial x_y}\\end{bmatrix}$\n",
    "\n",
    "For a given triangle/tetrahedron with one vertex at the origin, $\\frac{\\partial u}{\\partial x}$ can be solved from the initial and deformed coordinates of other vertices. The inverse of $x_0$ can be precomputed."
   ]
  },
  {
   "cell_type": "markdown",
   "metadata": {},
   "source": [
    "For a sheet of cloth with a R2 parameter space and a R3 coordinate space:\n",
    "\n",
    "Define a $3\\times2$ matrix $T$ that transforms the R2 vector $x$ to R3.\n",
    "\n",
    "$Tx_1=Tx_0+Tu \\implies T\\Delta x=T\\frac{\\partial u}{\\partial x}x_0 \\implies T\\frac{\\partial u}{\\partial x}=T\\Delta xx_0^{-1}$ ??\n",
    "\n",
    "(Seems like $T\\frac{\\partial u}{\\partial x}$ is the same as $w$ in the Baraff \"[Large Steps in Cloth Simulation](https://www.cs.cmu.edu/~baraff/papers/sig98.pdf)\" paper.)\n",
    "\n",
    "$T$ depends on $x$, which introduces nonlinearity to the equation."
   ]
  },
  {
   "cell_type": "markdown",
   "metadata": {},
   "source": [
    "Strain tensor: $\\epsilon = \\frac{1}{2}\\left(\\frac{\\partial u}{\\partial x}+{\\frac{\\partial u}{\\partial x}}^T\\right)$"
   ]
  },
  {
   "cell_type": "markdown",
   "metadata": {},
   "source": [
    "$U = \\frac{1}{2}V_0\\left(\\lambda\\sum_{ij}\\epsilon_{ii}\\epsilon_{jj}+\\mu\\left(\\sum_{ij}\\epsilon_{ij}^2+\\sum_{ij}\\epsilon_{ij}\\epsilon_{ji}\\right)\\right)$\n",
    "\n",
    "$\\frac{\\partial U}{\\partial\\epsilon_{ii}}=\\frac{1}{2}V_0\\left(\\lambda\\left(\\epsilon_{ii}+\\sum_{j}\\epsilon_{jj}\\right)+\\mu\\cdot4\\epsilon_{ii}\\right)$\n",
    "\n",
    "$\\frac{\\partial U}{\\partial\\epsilon_{ij,i\\ne j}}=\\frac{1}{2}V_0\\cdot\\mu\\left(2\\epsilon_{ij}+\\epsilon_{ji}\\right)$"
   ]
  }
 ],
 "metadata": {
  "kernelspec": {
   "display_name": "Python 3.9.1 64-bit",
   "language": "python",
   "name": "python3"
  },
  "language_info": {
   "codemirror_mode": {
    "name": "ipython",
    "version": 3
   },
   "file_extension": ".py",
   "mimetype": "text/x-python",
   "name": "python",
   "nbconvert_exporter": "python",
   "pygments_lexer": "ipython3",
   "version": "3.9.1"
  },
  "orig_nbformat": 4,
  "vscode": {
   "interpreter": {
    "hash": "ecbc50d119a157bb487b95c6f0c652477a8946cf907138d6308c321abbbf8dc7"
   }
  }
 },
 "nbformat": 4,
 "nbformat_minor": 2
}
