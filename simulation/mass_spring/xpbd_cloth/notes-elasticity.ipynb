{
 "cells": [
  {
   "cell_type": "markdown",
   "metadata": {},
   "source": [
    "https://ocw.mit.edu/courses/2-002-mechanics-and-materials-ii-spring-2004/f7b561fbe8762ff73da9236e6c0fff73_lec7.pdf\n",
    "\n",
    "Deformation gradient: $\\frac{\\partial u}{\\partial x}$\n",
    "\n",
    "$x_1 = x_0 + u \\implies \\Delta x = \\frac{\\partial u}{\\partial x} x_0 \\implies \\frac{\\partial u}{\\partial x} = \\Delta x x_0^{-1}$\n",
    "\n",
    " - $\\mathbf{x} = \\begin{bmatrix}x_1 & x_2\\end{bmatrix}$\n",
    " - $\\frac{\\partial u}{\\partial x} = \\begin{bmatrix}\\frac{\\partial u}{\\partial x_x}&\\frac{\\partial u}{\\partial x_y}\\end{bmatrix} = \\nabla u$\n",
    "\n",
    "For a given triangle/tetrahedron with one vertex at the origin, $\\frac{\\partial u}{\\partial x}$ can be solved from the initial and deformed coordinates of other vertices. The inverse of $x_0$ can be precomputed."
   ]
  },
  {
   "cell_type": "markdown",
   "metadata": {},
   "source": [
    "[original research]\n",
    "\n",
    "For a sheet of cloth with a R2 parameter space and a R3 coordinate space:\n",
    "\n",
    "Define a $3\\times2$ matrix $T$ that transforms the R2 vector $x$ to R3.\n",
    "\n",
    "$Tx_1=Tx_0+Tu \\implies T\\Delta x=T\\frac{\\partial u}{\\partial x}x_0 \\implies T\\frac{\\partial u}{\\partial x}=T\\Delta xx_0^{-1}$ ?? ($T$ and $x$ are dependent)\n",
    "\n",
    "(Seems like $T\\frac{\\partial u}{\\partial x}$ is the same as $w$ in the Baraff \"[Large Steps in Cloth Simulation](https://www.cs.cmu.edu/~baraff/papers/sig98.pdf)\" paper.)\n",
    "\n",
    "To find the $2\\times3$ matrix $T^{-1}$:\n",
    "\n",
    "Let $d_1$ and $d_2$ be two vectors in tangent space. Let $e_1=\\mathrm{normalize}(d_1)$, an unit vector perpendicular to $e_1$ is calculated using $e_2=d_2-(d_2\\cdot e_1)e_1$, and an unit orthogonal basis is established. Use $T^{-1}=\\begin{bmatrix}e_1&e_2\\end{bmatrix}^T$ to map $T\\frac{\\partial u}{\\partial x}$ to $\\frac{\\partial u}{\\partial x}$."
   ]
  },
  {
   "cell_type": "markdown",
   "metadata": {},
   "source": [
    "https://engcourses-uofa.ca/books/introduction-to-solid-mechanics/displacement-and-strain/strain-measures/three-dimensional-strain-measures/#green-strain-tensor-12\n",
    "\n",
    "Infinitesimal strain tensor: $\\epsilon = \\frac{1}{2}\\left(\\nabla u + \\nabla u^T\\right)$\n",
    "\n",
    "Green strain tensor: $\\epsilon = \\frac{1}{2}\\left(F^TF-I\\right) = \\frac{1}{2}\\left(\\nabla u^T + \\nabla u + \\nabla u^T \\nabla u\\right)$\n",
    "\n",
    "where $F = \\frac{\\partial}{\\partial x}(x+u) = \\nabla u+I$\n",
    "\n",
    "Strain tensor remains the same after rotation: $(RF)^T(RF) = F^TR^TRF = F^TR^{-1}RF = F^TF$"
   ]
  },
  {
   "cell_type": "markdown",
   "metadata": {},
   "source": [
    "Elastic potential energy of a continuum described in https://en.wikipedia.org/wiki/Elastic_energy#Continuum_systems. It took me some time to figure out how to read Einstein notation.\n",
    "\n",
    "Elastic potential energy due to deformation:\n",
    "\n",
    "$U = \\frac{1}{2}V_0\\left(\\lambda\\delta_{ij}\\delta_{kl}+\\mu(\\delta_{ik}\\delta_{jl}+\\delta_{il}\\delta{jk})\\right)\\epsilon_{ij}\\epsilon_{kl}$\n",
    "\n",
    "$U = \\frac{1}{2}V_0\\left(\\lambda\\sum_{ij}\\epsilon_{ii}\\epsilon_{jj}+\\mu\\left(\\sum_{ij}\\epsilon_{ij}^2+\\sum_{ij}\\epsilon_{ij}\\epsilon_{ji}\\right)\\right)$\n",
    "\n",
    "$U = \\frac{1}{2}V_0\\left(\\lambda\\mathrm{tr}(\\epsilon)^2+\\mu\\left(2\\sum_i\\epsilon_{ii}^2+4\\sum_{i<j}\\epsilon_{ij}^2\\right)\\right)$ due to the symmetry of $\\epsilon$\n",
    "\n",
    "$\\lambda = K-\\frac{2}{3}G,\\ \\mu = G$ where $K$ is the bulk modulus and $G$ is the shear modulus. It requires investigation whether this formula is 3D-only or it also works in 2D.\n",
    "\n",
    "(Added later: the energy equation is also described in https://engcourses-uofa.ca/books/introduction-to-solid-mechanics/energy/expressions-for-the-strain-energy-in-linear-elastic-materials/#strain-energy-in-linear-elastic-isotropic-materials-2)"
   ]
  },
  {
   "cell_type": "markdown",
   "metadata": {},
   "source": [
    "The formula for $\\frac{\\partial U}{\\partial\\mathbf{x}}$ is cursed but doable. I'm not an expert on matrix calculus and spent way to much effort mathing + random guessing to match my formula with the numerical gradient. This is a note sheet for me to organize the formulae, not a formal report."
   ]
  }
 ],
 "metadata": {
  "kernelspec": {
   "display_name": "Python 3.9.1 64-bit",
   "language": "python",
   "name": "python3"
  },
  "language_info": {
   "codemirror_mode": {
    "name": "ipython",
    "version": 3
   },
   "file_extension": ".py",
   "mimetype": "text/x-python",
   "name": "python",
   "nbconvert_exporter": "python",
   "pygments_lexer": "ipython3",
   "version": "3.9.1"
  },
  "orig_nbformat": 4,
  "vscode": {
   "interpreter": {
    "hash": "ecbc50d119a157bb487b95c6f0c652477a8946cf907138d6308c321abbbf8dc7"
   }
  }
 },
 "nbformat": 4,
 "nbformat_minor": 2
}
