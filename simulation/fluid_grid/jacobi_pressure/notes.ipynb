{
 "cells": [
  {
   "cell_type": "markdown",
   "metadata": {},
   "source": [
    "https://www.cs.ubc.ca/~rbridson/fluidsimulation/fluids_notes.pdf\n",
    "\n",
    "Navior-Stokes equation:\n",
    "\n",
    "$\\frac{\\partial\\vec{u}}{\\partial t} + \\vec{u}\\cdot\\nabla\\vec{u} + \\frac{1}{\\rho}\\nabla p = \\vec{g}+\\nu\\nabla^2\\vec{u}$\n",
    "\n",
    "$\\nabla\\cdot\\vec{u} = 0$"
   ]
  },
  {
   "cell_type": "markdown",
   "metadata": {},
   "source": [
    "https://en.wikipedia.org/wiki/Material_derivative\n",
    "\n",
    "$\\frac{DY}{Dt} = \\frac{\\partial Y}{\\partial t} + \\frac{\\partial Y}{\\partial x}\\frac{\\partial x}{\\partial t} = \\frac{\\partial Y}{\\partial t} + \\vec{u}\\cdot\\nabla Y$\n",
    "\n",
    "$\\frac{D\\vec{u}}{Dt} = \\frac{\\partial\\vec{u}}{\\partial t} + \\vec{u}\\cdot\\nabla\\vec{u}$\n",
    "\n",
    "Forward advection: $\\vec{u}+\\Delta\\vec{u} = \\vec{u} + \\left(-\\vec{u}\\cdot\\nabla\\vec{u}\\right)\\Delta t$\n",
    "\n",
    "Semi-Lagrangian advection: $\\vec{u}(\\vec{x},t)+\\Delta\\vec{u} = \\vec{u}(\\vec{x}-\\vec{u}\\Delta t, t-\\Delta t)$\n",
    "\n",
    "Series expansion: $\\Delta\\vec{u} = \\left(-\\vec{u}\\cdot\\nabla\\vec{u}-\\frac{\\partial\\vec{u}}{\\partial t}\\right)\\Delta t+O(\\Delta t^2)$ -: $\\frac{\\partial\\vec{u}}{\\partial t}=0$ ??\n"
   ]
  },
  {
   "cell_type": "markdown",
   "metadata": {},
   "source": [
    "Viscosity: $\\Delta\\vec{u} = \\nu\\nabla^2\\vec{u}\\Delta t$\n",
    "\n",
    "Explicit integration: $\\Delta\\vec{u} = \\nu\\left(\\frac{1}{\\epsilon_x^2}(u_{1,0}+u_{-1,0}-2u) + \\frac{1}{\\epsilon_y^2}(u_{0,1}+u_{0,-1}-2u)\\right)\\Delta t$\n",
    "\n",
    "Implicit integration (semi-??):\n",
    "\n",
    "$\\Delta\\vec{u} = \\nu\\left(\\frac{1}{\\epsilon_x^2}(u_{1,0}+u_{-1,0}-2(u+\\Delta u)) + \\frac{1}{\\epsilon_y^2}(u_{0,1}+u_{0,-1}-2(u+\\Delta u))\\right)\\Delta t$\n",
    "\n",
    "$\\left(1+2\\nu\\left(\\frac{1}{\\epsilon_x^2}+\\frac{1}{\\epsilon_y^2}\\right)\\Delta t\\right)\\Delta\\vec{u} = \\nu\\left(\\frac{1}{\\epsilon_x^2}(u_{1,0}+u_{-1,0}-2u) + \\frac{1}{\\epsilon_y^2}(u_{0,1}+u_{0,-1}-2u)\\right)\\Delta t$\n",
    "\n",
    "$\\Delta\\vec{u} = \\frac{\\nu\\nabla^2u\\Delta t}{1+2\\nu\\left(\\frac{1}{\\epsilon_x^2}+\\frac{1}{\\epsilon_y^2}\\right)\\Delta t}$\n",
    "\n",
    "Better than explcit integration but still \"blows off\" with a larger step size. An iterative solver may be required when $\\epsilon$ gets small and/or $\\Delta t$ gets large."
   ]
  },
  {
   "cell_type": "markdown",
   "metadata": {},
   "source": [
    "https://people.sc.fsu.edu/~jpeterson/4-Implicit.pdf\n",
    "\n",
    "Implicitly solve for velocity diffusion (viscosity):\n",
    "\n",
    "$u_{0,0}^1-u_{0,0}^0 = \\nu\\left(\\frac{1}{\\epsilon_x^2}(u_{1,0}^1+u_{-1,0}^1-2u_{0,0}^1) + \\frac{1}{\\epsilon_y^2}(u_{0,1}^1+u_{0,-1}^1-2u_{0,0{^1}})\\right)\\Delta t$\n",
    "\n",
    "$\\left(1+2\\nu\\left(\\frac{1}{\\epsilon_x^2}+\\frac{1}{\\epsilon_y^2}\\right)\\Delta t\\right)u_{0,0}^1 = u_{0,0}^0+\\nu\\left(\\frac{1}{\\epsilon_x^2}(u_{1,0}^1+u_{-1,0}^1) + \\frac{1}{\\epsilon_y^2}(u_{0,1}^1+u_{0,-1}^1)\\right)\\Delta t$\n",
    "\n",
    "Solve for $u_{0,0}^{1}$ using a Jacobi-like linear solver. Stable but produces unnatural results when $\\frac{\\nu\\Delta t}{\\epsilon^2}$ is large. Not sure whether my formula is correct or not."
   ]
  },
  {
   "cell_type": "markdown",
   "metadata": {},
   "source": [
    "Incompressibility: $\\nabla\\cdot\\vec{u}=0 \\implies \\nabla\\cdot\\Delta\\vec{u}=0$"
   ]
  }
 ],
 "metadata": {
  "language_info": {
   "name": "python"
  },
  "orig_nbformat": 4
 },
 "nbformat": 4,
 "nbformat_minor": 2
}
