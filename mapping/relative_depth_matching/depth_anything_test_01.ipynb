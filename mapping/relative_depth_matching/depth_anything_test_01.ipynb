{
 "cells": [
  {
   "cell_type": "code",
   "execution_count": 1,
   "metadata": {},
   "outputs": [
    {
     "name": "stderr",
     "output_type": "stream",
     "text": [
      "/home/harry7557558/.local/lib/python3.8/site-packages/tqdm/auto.py:21: TqdmWarning: IProgress not found. Please update jupyter and ipywidgets. See https://ipywidgets.readthedocs.io/en/stable/user_install.html\n",
      "  from .autonotebook import tqdm as notebook_tqdm\n",
      "xFormers not available\n",
      "xFormers not available\n"
     ]
    }
   ],
   "source": [
    "from PIL import Image\n",
    "import torch\n",
    "import numpy as np\n",
    "\n",
    "device = 'cuda' if torch.cuda.is_available() else 'cpu'\n",
    "\n",
    "import sys, os\n",
    "depth_anything_path = \"/home/harry7557558/GitHub/external/Depth-Anything/\"\n",
    "sys.path += [depth_anything_path]\n",
    "current_directory = os.getcwd()\n",
    "os.chdir(depth_anything_path)\n",
    "\n",
    "from depth_anything.dpt import DepthAnything\n",
    "\n",
    "encoder = 'vits' # can also be 'vitb' or 'vitl'\n",
    "model = DepthAnything.from_pretrained('LiheYoung/depth_anything_{:}14'.format(encoder))\n",
    "model = model.to(device)\n",
    "\n",
    "os.chdir(current_directory)\n",
    "\n",
    "# print(model)"
   ]
  },
  {
   "cell_type": "code",
   "execution_count": 4,
   "metadata": {},
   "outputs": [
    {
     "name": "stdout",
     "output_type": "stream",
     "text": [
      "exif orientation: 1\n",
      "Image size: (1176, 882)\n",
      "276.6394109930843 ms\n"
     ]
    }
   ],
   "source": [
    "image_filename = \"/media/harry7557558/OS/Archive/DCIM/20230415_093519.jpg\"\n",
    "# image_filename = \"/home/harry7557558/nerd-face_1f913.png\"\n",
    "img = Image.open(image_filename)\n",
    "\n",
    "from PIL import ExifTags\n",
    "for orientation in ExifTags.TAGS.keys():\n",
    "    if ExifTags.TAGS[orientation]=='Orientation':\n",
    "        break\n",
    "if hasattr(img, '_getexif'):\n",
    "    exif = img._getexif()\n",
    "    if exif is not None and orientation in exif:\n",
    "        print(\"exif orientation:\", exif[orientation])\n",
    "        if exif[orientation] == 3:\n",
    "            img=img.rotate(180, expand=True)\n",
    "        elif exif[orientation] == 6:\n",
    "            img=img.rotate(270, expand=True)\n",
    "        elif exif[orientation] == 8:\n",
    "            img=img.rotate(90, expand=True)\n",
    "\n",
    "x = img.convert(\"RGB\")\n",
    "scale = 1024/(x.width*x.height)**0.5\n",
    "w = int(x.width*scale/14+0.5)*14\n",
    "h = int(x.height*scale/14+0.5)*14\n",
    "x = x.resize((w, h), Image.LANCZOS)\n",
    "\n",
    "print(\"Image size:\", x.size)\n",
    "\n",
    "x = np.array(x, dtype=np.float32) / 255.0\n",
    "x = np.transpose(x, (2, 0, 1))\n",
    "\n",
    "from time import perf_counter\n",
    "with torch.no_grad():\n",
    "    time0 = perf_counter()\n",
    "    \n",
    "    mu = np.array([0.485, 0.456, 0.406], dtype=np.float32).reshape((3, 1, 1))\n",
    "    sigma = np.array([0.229, 0.224, 0.225], dtype=np.float32).reshape((3, 1, 1))\n",
    "    xc = torch.tensor((x-mu)/sigma, device=device).unsqueeze(0)\n",
    "    y = model(xc)[0].cpu().numpy()\n",
    "\n",
    "    time1 = perf_counter()\n",
    "    print(1000*(time1-time0), 'ms')\n"
   ]
  },
  {
   "cell_type": "code",
   "execution_count": 8,
   "metadata": {},
   "outputs": [
    {
     "name": "stdout",
     "output_type": "stream",
     "text": [
      "(147519,)\n"
     ]
    }
   ],
   "source": [
    "from plyfile import PlyData, PlyElement\n",
    "\n",
    "def write_ply(rgb_array, depth_array, file_path):\n",
    "    h, w = depth_array.shape\n",
    "    num_points = w * h\n",
    "\n",
    "    # Flatten arrays\n",
    "    depth_flat = depth_array.flatten()\n",
    "    rgb_flat = rgb_array.reshape((3, -1)).T\n",
    "\n",
    "    # Create vertex data\n",
    "    vertex = np.zeros(num_points, dtype=[('x', 'f4'), ('y', 'f4'), ('z', 'f4'), \n",
    "                                         ('red', 'u1'), ('green', 'u1'), ('blue', 'u1')])\n",
    "    vertex['x'] = np.tile(np.arange(w), h) / (w*h)**0.5\n",
    "    vertex['y'] = w - np.repeat(np.arange(h), w) / (w*h)**0.5\n",
    "    # vertex['z'] = depth_flat / (2.5*np.std(depth_flat))\n",
    "    vertex['z'] = depth_flat / (3.0*np.mean(depth_flat))\n",
    "    rgb = (np.clip(rgb_flat,0,1)*255+0.5).astype(np.uint8)\n",
    "    vertex['red'] = rgb[:, 0]\n",
    "    vertex['green'] = rgb[:, 1]\n",
    "    vertex['blue'] = rgb[:, 2]\n",
    "\n",
    "    faces = []\n",
    "    depth = vertex['z']\n",
    "    print(depth.shape)\n",
    "    for y in range(h - 1):\n",
    "        for x in range(w - 1):\n",
    "            i00 = y * w + x\n",
    "            i10 = i00 + 1\n",
    "            i01 = (y + 1) * w + x\n",
    "            i11 = i01 + 1\n",
    "            gx = depth[i01]+depth[i11]-depth[i00]-depth[i10]\n",
    "            gy = depth[i10]+depth[i11]-depth[i00]-depth[i01]\n",
    "            if np.hypot(gx, gy) < 20 / (w*h)**0.5:\n",
    "                faces.append(([i00, i10, i11, i01], 0))\n",
    "\n",
    "    faces = np.array(faces,\n",
    "                     dtype=[('vertex_indices', 'i4', (4,)), ('i', 'u1')])\n",
    "\n",
    "    # Create PlyElements\n",
    "    vertex_element = PlyElement.describe(vertex, 'vertex')\n",
    "    face_element = PlyElement.describe(faces, 'face')\n",
    "\n",
    "    # Write to PLY file\n",
    "    ply_data = PlyData([vertex_element, face_element])\n",
    "    ply_data.write(file_path)\n",
    "\n",
    "\n",
    "from scipy.ndimage import zoom\n",
    "\n",
    "scale = 384/(x.shape[1]*x.shape[2])**0.5\n",
    "x = zoom(x, (1, scale, scale))\n",
    "y = zoom(y, (scale, scale))\n",
    "write_ply(x, y, \"depth_mesh.ply\")\n"
   ]
  }
 ],
 "metadata": {
  "kernelspec": {
   "display_name": "Python 3",
   "language": "python",
   "name": "python3"
  },
  "language_info": {
   "codemirror_mode": {
    "name": "ipython",
    "version": 3
   },
   "file_extension": ".py",
   "mimetype": "text/x-python",
   "name": "python",
   "nbconvert_exporter": "python",
   "pygments_lexer": "ipython3",
   "version": "3.8.10"
  }
 },
 "nbformat": 4,
 "nbformat_minor": 2
}
