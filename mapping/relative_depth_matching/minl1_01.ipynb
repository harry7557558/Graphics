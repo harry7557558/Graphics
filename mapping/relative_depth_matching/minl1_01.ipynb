{
 "cells": [
  {
   "cell_type": "markdown",
   "metadata": {},
   "source": [
    "# Minimize L1 loss between closest points"
   ]
  },
  {
   "cell_type": "markdown",
   "metadata": {},
   "source": [
    "Load data"
   ]
  },
  {
   "cell_type": "code",
   "execution_count": 1,
   "metadata": {},
   "outputs": [
    {
     "name": "stdout",
     "output_type": "stream",
     "text": [
      "(34, 288, 513, 3)\n",
      "(34, 288, 513)\n"
     ]
    }
   ],
   "source": [
    "import numpy as np\n",
    "\n",
    "loaded = np.load('frames.npz')\n",
    "rgb_all = loaded['rgb'] / 255.0\n",
    "depth_all = loaded['depth'] / 65535.0\n",
    "\n",
    "print(rgb_all.shape)\n",
    "print(depth_all.shape)"
   ]
  },
  {
   "cell_type": "markdown",
   "metadata": {},
   "source": [
    "Generate point clouds"
   ]
  },
  {
   "cell_type": "code",
   "execution_count": 31,
   "metadata": {},
   "outputs": [
    {
     "name": "stdout",
     "output_type": "stream",
     "text": [
      "9095 points\n",
      "8375 points\n",
      "8901 points\n"
     ]
    }
   ],
   "source": [
    "from plyfile import PlyData, PlyElement\n",
    "\n",
    "def downsample_point_cloud(points, attrs):\n",
    "\n",
    "    bmax = np.amax(points, 0)\n",
    "    bmin = np.amin(points, 0)\n",
    "    bbox_size = bmax - bmin\n",
    "    size = np.prod(bbox_size)**(1/3)\n",
    "\n",
    "    voxel_size = np.fmax((60*bbox_size/size+0.5).astype(np.int32), 1)\n",
    "    # print(voxel_size)\n",
    "    pids = -1 * np.ones(voxel_size, dtype=np.int32)\n",
    "    pdists = np.inf * np.ones(voxel_size, dtype=np.float32)\n",
    "\n",
    "    for i, p in enumerate(points):\n",
    "        g = (p-bmin)/(bmax-bmin) * voxel_size\n",
    "        g = np.fmin(g, voxel_size-0.001)\n",
    "        gi = g.astype(np.int32)\n",
    "        gd = np.linalg.norm(g-gi-0.5)\n",
    "        if gd < pdists[gi[0], gi[1], gi[2]]:\n",
    "            pids[gi[0], gi[1], gi[2]] = i\n",
    "            pdists[gi[0], gi[1], gi[2]] = gd\n",
    "\n",
    "    attrs1 = []\n",
    "    points1 = []\n",
    "    for p0, p1, p2 in zip(*np.where(pids >= 0)):\n",
    "        i = pids[p0, p1, p2]\n",
    "        attrs1.append(attrs[i])\n",
    "        points1.append(points[i])\n",
    "    return np.array(points1), np.array(attrs1)\n",
    "\n",
    "\n",
    "def write_ply(points, rgbs, file_path):\n",
    "    n = len(rgbs)\n",
    "    vertex = np.zeros(n, dtype=[('x', 'f4'), ('y', 'f4'), ('z', 'f4'), \n",
    "                                ('red', 'u1'), ('green', 'u1'), ('blue', 'u1')])\n",
    "    vertex['x'] = points[:,0]\n",
    "    vertex['y'] = points[:,1]\n",
    "    vertex['z'] = points[:,2]\n",
    "    vertex['red'] = rgbs[:,0]\n",
    "    vertex['green'] = rgbs[:,1]\n",
    "    vertex['blue'] = rgbs[:,2]\n",
    "    vertex_element = PlyElement.describe(vertex, 'vertex')\n",
    "    ply_data = PlyData([vertex_element])\n",
    "    ply_data.write(file_path)\n",
    "\n",
    "\n",
    "def generate_point_cloud(rgb, depth):\n",
    "    grad_x = depth[2:,1:-1]-depth[:-2,1:-1]\n",
    "    grad_y = depth[1:-1,2:]-depth[1:-1,:-2]\n",
    "    grad = np.hypot(grad_x, grad_y).flatten()\n",
    "    rgb = rgb[1:-1, 1:-1]\n",
    "    depth = depth[1:-1, 1:-1]\n",
    "    h, w = depth.shape\n",
    "    depth = depth.flatten()\n",
    "    rgb = rgb.reshape((-1, 3))\n",
    "    x = np.tile(np.arange(w), h) / (w*h)**0.5\n",
    "    y = (h-np.repeat(np.arange(h), w)) / (w*h)**0.5\n",
    "    z = depth\n",
    "    p = np.array([x*2-1, y*2-1, z*2]).T\n",
    "    i = np.where((grad < 0.25) & (z > 0.01))\n",
    "    rgb, p = rgb[i], p[i]\n",
    "    p, rgb = downsample_point_cloud(p, rgb)\n",
    "    print(len(p), 'points')\n",
    "    return p, rgb\n",
    "\n",
    "pcl1, rgb1 = generate_point_cloud(rgb_all[9], depth_all[9])\n",
    "write_ply(pcl1, rgb1, \"pcl09.ply\")\n",
    "pcl2, rgb2 = generate_point_cloud(rgb_all[10], depth_all[10])\n",
    "write_ply(pcl2, rgb2, \"pcl10.ply\")\n",
    "pcl3, rgb3 = generate_point_cloud(rgb_all[11], depth_all[11])\n",
    "write_ply(pcl3, rgb3, \"pcl11.ply\")\n"
   ]
  },
  {
   "cell_type": "markdown",
   "metadata": {},
   "source": [
    "Point cloud matching robust to outliers, minimize sum of L1 losses"
   ]
  },
  {
   "cell_type": "code",
   "execution_count": 3,
   "metadata": {},
   "outputs": [],
   "source": [
    "from scipy.spatial import KDTree\n",
    "import scipy.optimize"
   ]
  },
  {
   "cell_type": "markdown",
   "metadata": {},
   "source": [
    "Keep first cloud static\n",
    "\n",
    "Second cloud: optimize for so3 exponential map + translation"
   ]
  },
  {
   "cell_type": "code",
   "execution_count": 4,
   "metadata": {},
   "outputs": [
    {
     "name": "stdout",
     "output_type": "stream",
     "text": [
      "original loss: 0.05982861957744673\n",
      "Desired error not necessarily achieved due to precision loss.\n",
      "success False nit 20 nfev 87\n",
      "loss: 0.038522199725969083\n",
      "0.6770351209997898 secs\n"
     ]
    }
   ],
   "source": [
    "def decode_rt(T):\n",
    "    phi = T[:3]\n",
    "    t = T[3:6]\n",
    "    theta = np.linalg.norm(phi)\n",
    "    R = np.eye(3)\n",
    "    if theta != 0.0:\n",
    "        n = phi / theta\n",
    "        nnT = np.outer(n, n)\n",
    "        n_star = np.array([[0.0, -n[2], n[1]], [n[2], 0.0, -n[0]], [-n[1], n[0], 0.0]])\n",
    "        R = np.cos(theta) * R + \\\n",
    "            (1.0-np.cos(theta)) * nnT + \\\n",
    "            np.sin(theta) * n_star\n",
    "    assert np.linalg.norm(R@R.T-np.eye(3)) < 1e-12\n",
    "    return R, t\n",
    "\n",
    "\n",
    "def minl1_rt(pc1, pc2, T_guess=np.zeros(6)):\n",
    "    T = np.array(T_guess)\n",
    "\n",
    "    kdtree_pc1 = KDTree(pc1)\n",
    "\n",
    "    def fun(T):\n",
    "        R, t = decode_rt(T)\n",
    "        Rp = np.dot(pc2, R.T)\n",
    "        pc2_transformed = Rp + t\n",
    "        g_pc2_transformed = np.zeros((*Rp.shape, len(T)), dtype=Rp.dtype)\n",
    "        g_pc2_transformed[:, 0, 1] = Rp[:, 2]\n",
    "        g_pc2_transformed[:, 0, 2] = -Rp[:, 1]\n",
    "        g_pc2_transformed[:, 1, 0] = -Rp[:, 2]\n",
    "        g_pc2_transformed[:, 1, 2] = Rp[:, 0]\n",
    "        g_pc2_transformed[:, 2, 0] = Rp[:, 1]\n",
    "        g_pc2_transformed[:, 2, 1] = -Rp[:, 0]\n",
    "        g_pc2_transformed[:, 0, 3] = 1.0\n",
    "        g_pc2_transformed[:, 1, 4] = 1.0\n",
    "        g_pc2_transformed[:, 2, 5] = 1.0\n",
    "        distances, indices = kdtree_pc1.query(pc2_transformed)\n",
    "        g_distances = np.einsum('nij,ni->nj', g_pc2_transformed, pc2_transformed-pc1[indices]) / \\\n",
    "                (distances.reshape((len(distances), 1)) + 1e-8)\n",
    "        cost = np.mean(distances)\n",
    "        g_cost = np.mean(g_distances, axis=0)\n",
    "        return cost, g_cost\n",
    "\n",
    "    # print(scipy.optimize.check_grad(lambda _: fun(_)[0], lambda _: fun(_)[1], T))\n",
    "    # assert False\n",
    "\n",
    "    loss0 = fun(T)[0]\n",
    "    print(\"original loss:\", loss0)\n",
    "\n",
    "    res = scipy.optimize.minimize(fun, T, jac=True)\n",
    "    if not res.success:\n",
    "        print(res.message)\n",
    "    print('success', res.success, 'nit', res.nit, 'nfev', res.nfev)\n",
    "    print(\"loss:\", res.fun)\n",
    "    R, t = decode_rt(res.x)\n",
    "    pc2_transformed = np.dot(pc2, R.T) + t\n",
    "    return pc2_transformed, res.x\n",
    "\n",
    "\n",
    "from time import perf_counter\n",
    "t0 = perf_counter()\n",
    "pc2_transformed, T = minl1_rt(pcl1, pcl2)\n",
    "t1 = perf_counter()\n",
    "print(t1-t0, \"secs\")\n",
    "\n",
    "write_ply(pc2_transformed, rgb2, \"minl1_rt.ply\")"
   ]
  },
  {
   "cell_type": "markdown",
   "metadata": {},
   "source": [
    "Optimize for second cloud pose + both cloud z scale\n",
    "\n",
    " - Doesn't work, collapsed into a plane"
   ]
  },
  {
   "cell_type": "code",
   "execution_count": 81,
   "metadata": {},
   "outputs": [
    {
     "name": "stdout",
     "output_type": "stream",
     "text": [
      "original loss: 0.05982861957744673\n",
      "Desired error not necessarily achieved due to precision loss.\n",
      "success False nit 35 nfev 831\n",
      "loss: 0.006776329447766397\n",
      "6.3003387409989955 secs\n"
     ]
    }
   ],
   "source": [
    "def decode_rtzz(T):\n",
    "    phi = T[:3]\n",
    "    t = T[3:6]\n",
    "    theta = np.linalg.norm(phi)\n",
    "    R = np.eye(3)\n",
    "    if theta != 0.0:\n",
    "        n = phi / theta\n",
    "        nnT = np.outer(n, n)\n",
    "        n_star = np.array([[0.0, -n[2], n[1]], [n[2], 0.0, -n[0]], [-n[1], n[0], 0.0]])\n",
    "        R = np.cos(theta) * R + \\\n",
    "            (1.0-np.cos(theta)) * nnT + \\\n",
    "            np.sin(theta) * n_star\n",
    "    assert np.linalg.norm(R@R.T-np.eye(3)) < 1e-12\n",
    "    return R, t, *np.exp(T[6:])\n",
    "\n",
    "def decode_rtzz_jac(T):\n",
    "    epsilon = 1e-6\n",
    "    R, t, z1, z2 = decode_rtzz(T)\n",
    "    num_rows_R, num_cols_R = R.shape\n",
    "    num_rows_t, = t.shape\n",
    "    num_dims_T = len(T)\n",
    "    jacobian_R = np.zeros((num_rows_R, num_cols_R, num_dims_T))\n",
    "    jacobian_t = np.zeros((num_rows_t, num_dims_T))\n",
    "    jacobian_z1 = np.zeros((num_dims_T,))\n",
    "    jacobian_z2 = np.zeros((num_dims_T,))\n",
    "    for i in range(num_dims_T):\n",
    "        delta_T = np.zeros_like(T)\n",
    "        delta_T[i] = epsilon\n",
    "        R1, t1, z11, z21 = decode_rtzz(T + delta_T)\n",
    "        R0, t0, z10, z20 = decode_rtzz(T - delta_T)\n",
    "        jacobian_R[:, :, i] = (R1 - R0) / (2 * epsilon)\n",
    "        jacobian_t[:, i] = (t1 - t0) / (2 * epsilon)\n",
    "        jacobian_z1[i] = (z11-z10) / (2 * epsilon)\n",
    "        jacobian_z2[i] = (z21-z20) / (2 * epsilon)\n",
    "    return jacobian_R, jacobian_t, jacobian_z1, jacobian_z2\n",
    "\n",
    "\n",
    "def minl1_rtzz(pc1, pc2, T_guess=np.zeros(8)):\n",
    "    T = np.array(T_guess)\n",
    "\n",
    "    def fun(T):\n",
    "        R, t, z1, z2 = decode_rtzz(T)\n",
    "        pc1_scaled = pc1 * [[1, 1, z1]]\n",
    "        # pc1_scaled = pc1\n",
    "        kdtree_pc1 = KDTree(pc1_scaled)\n",
    "        pc2_scaled = pc2 * [[1, 1, z2]]\n",
    "        Rp = np.dot(pc2_scaled, R.T)\n",
    "        pc2_transformed = Rp + t\n",
    "        distances, indices = kdtree_pc1.query(pc2_transformed)\n",
    "        cost = np.mean(distances)\n",
    "        return cost\n",
    "\n",
    "    loss0 = fun(T)\n",
    "    print(\"original loss:\", loss0)\n",
    "\n",
    "    res = scipy.optimize.minimize(fun, T)\n",
    "    if not res.success:\n",
    "        print(res.message)\n",
    "    print('success', res.success, 'nit', res.nit, 'nfev', res.nfev)\n",
    "    print(\"loss:\", res.fun)\n",
    "    R, t, z1, z2 = decode_rtzz(res.x)\n",
    "    pc1_transformed = pc1 * [[1,1,z1]]\n",
    "    pc2_transformed = np.dot(pc2*[[1,1,z2]], R.T) + t\n",
    "    return pc1_transformed, pc2_transformed, res.x\n",
    "\n",
    "\n",
    "from time import perf_counter\n",
    "t0 = perf_counter()\n",
    "pc1_transformed, pc2_transformed, T = minl1_rtzz(pcl1, pcl2)\n",
    "t1 = perf_counter()\n",
    "print(t1-t0, \"secs\")\n",
    "\n",
    "write_ply(pc1_transformed, rgb1, \"minl1_rtzz_1.ply\")\n",
    "write_ply(pc2_transformed, rgb2, \"minl1_rtzz_2.ply\")"
   ]
  },
  {
   "cell_type": "markdown",
   "metadata": {},
   "source": [
    "Camera?"
   ]
  },
  {
   "cell_type": "code",
   "execution_count": 57,
   "metadata": {},
   "outputs": [
    {
     "name": "stdout",
     "output_type": "stream",
     "text": [
      "original loss: 0.0011934447948996224\n",
      "success True nit 133 nfev 1884\n",
      "loss: 0.0005769190387349132\n",
      "R =\n",
      "[[ 0.99997598  0.00358787  0.00592962]\n",
      " [-0.00369474  0.99982916  0.01811054]\n",
      " [-0.00586363 -0.01813201  0.99981841]]\n",
      "t = [ 0.03661054 -0.0229958   0.15158072]\n",
      "f = 0.999675505194089\n",
      "sz = 0.6574367200384057 0.6704247421865344\n",
      "dz = 1.5718395766459987 1.4392239135979719\n",
      "9.748117209004704 secs\n",
      "[-1.81224135e-02  5.89699104e-03 -3.64153445e-03  3.66105396e-02\n",
      " -2.29958036e-02  1.51580716e-01 -3.24547466e-04 -4.19406763e-01\n",
      "  4.52246638e-01 -3.99843824e-01  3.64104019e-01]\n"
     ]
    }
   ],
   "source": [
    "def transform_rtfszsz(T, p1, p2, verbose=False):\n",
    "    R, t = decode_rt(T[0:6])\n",
    "    f = np.exp(T[6])\n",
    "    # f = 4.0\n",
    "    sz1, dz1 = np.exp(T[7:9])\n",
    "    sz2, dz2 = np.exp(T[9:11])\n",
    "    if verbose:\n",
    "        print('R =', R, sep='\\n')\n",
    "        print('t =', t)\n",
    "        print('f =', f)\n",
    "        print('sz =', sz1, sz2)\n",
    "        print('dz =', dz1, dz2)\n",
    "    p1, p2 = np.array(p1), np.array(p2)\n",
    "    p1[:,2] = p1[:,2]*sz1+dz1\n",
    "    p1[:,:2] *= p1[:,2:]/f\n",
    "    p2[:,2] = p2[:,2]*sz2+dz2\n",
    "    p2[:,:2] *= p2[:,2:]/f\n",
    "    return p1, np.dot(p2, R.T) + t\n",
    "\n",
    "\n",
    "def regularize_pcl(p):\n",
    "    p = p - np.mean(p, axis=0)\n",
    "    cov = p.T @ p\n",
    "    eigvals = np.linalg.eigvalsh(cov) ** 0.5\n",
    "    # print(eigvals)\n",
    "    # print(max(eigvals) / min(eigvals))\n",
    "    return 1e-6 * max(eigvals) / min(eigvals), np.prod(eigvals)**(-1/3)\n",
    "\n",
    "\n",
    "def minl1_rtfszsz(pc1, pc2, T_guess=np.zeros(11)):\n",
    "    T = np.array(T_guess)\n",
    "\n",
    "    def fun(T, reg=True):\n",
    "        pc1_transformed, pc2_transformed = transform_rtfszsz(T, pc1, pc2)\n",
    "        kdtree_pc1 = KDTree(pc1_transformed)\n",
    "        distances, indices = kdtree_pc1.query(pc2_transformed)\n",
    "        cost = np.mean(distances)\n",
    "        reg1, s1 = regularize_pcl(pc1_transformed)\n",
    "        reg2, s2 = regularize_pcl(pc2_transformed)\n",
    "        cost *= (s1*s2)**0.5\n",
    "        if not reg:\n",
    "            return cost\n",
    "        return cost + reg1 + reg2\n",
    "\n",
    "    loss0 = fun(T, False)\n",
    "    print(\"original loss:\", loss0)\n",
    "\n",
    "    res = scipy.optimize.minimize(fun, T)\n",
    "    if not res.success:\n",
    "        print(res.message)\n",
    "    print('success', res.success, 'nit', res.nit, 'nfev', res.nfev)\n",
    "    T = res.x\n",
    "    print(\"loss:\", fun(T, False))\n",
    "    pc1_transformed, pc2_transformed = transform_rtfszsz(T, pc1, pc2, True)\n",
    "    return pc1_transformed, pc2_transformed, T\n",
    "\n",
    "from time import perf_counter\n",
    "t0 = perf_counter()\n",
    "pc1_transformed, pc2_transformed, T = minl1_rtfszsz(pcl1, pcl2)\n",
    "t1 = perf_counter()\n",
    "print(t1-t0, \"secs\")\n",
    "\n",
    "print(T)\n",
    "write_ply(pc1_transformed, rgb1, \"minl1_rtfszsz_1.ply\")\n",
    "write_ply(pc2_transformed, rgb2, \"minl1_rtfszsz_2.ply\")"
   ]
  }
 ],
 "metadata": {
  "kernelspec": {
   "display_name": "Python 3",
   "language": "python",
   "name": "python3"
  },
  "language_info": {
   "codemirror_mode": {
    "name": "ipython",
    "version": 3
   },
   "file_extension": ".py",
   "mimetype": "text/x-python",
   "name": "python",
   "nbconvert_exporter": "python",
   "pygments_lexer": "ipython3",
   "version": "3.8.10"
  }
 },
 "nbformat": 4,
 "nbformat_minor": 2
}
