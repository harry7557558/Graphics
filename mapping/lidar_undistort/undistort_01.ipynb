{
 "cells": [
  {
   "cell_type": "markdown",
   "metadata": {},
   "source": [
    "Load data"
   ]
  },
  {
   "cell_type": "code",
   "execution_count": 1,
   "metadata": {},
   "outputs": [
    {
     "name": "stdout",
     "output_type": "stream",
     "text": [
      "106 clouds\n"
     ]
    }
   ],
   "source": [
    "import rosbag\n",
    "import sensor_msgs.point_cloud2\n",
    "\n",
    "import numpy as np\n",
    "\n",
    "# livox mid360 lidar undistorted using fast-lio\n",
    "bag_name = \"/home/harry7557558/2024-06-08-16-51-41.bag\"\n",
    "\n",
    "bag = rosbag.Bag(bag_name)\n",
    "\n",
    "all_clouds = []\n",
    "for topic, msg, msg_t in bag.read_messages():\n",
    "    if topic != \"/cloud_train_undistorted\":\n",
    "        continue\n",
    "    points = sensor_msgs.point_cloud2.read_points(\n",
    "            msg, field_names=(\"x\", \"y\", \"z\", \"curvature\"),\n",
    "            skip_nans=True)\n",
    "    points = np.array([*points])\n",
    "    positions = points[:, :3]\n",
    "    times = points[:, 3] / 1000\n",
    "    all_clouds.append((positions, times))\n",
    "\n",
    "print(len(all_clouds), 'clouds')"
   ]
  },
  {
   "cell_type": "markdown",
   "metadata": {},
   "source": [
    "Apply fake distortion"
   ]
  },
  {
   "cell_type": "code",
   "execution_count": 10,
   "metadata": {},
   "outputs": [
    {
     "data": {
      "image/png": "[encoded data removed]",
      "text/plain": [
       "<Figure size 800x300 with 1 Axes>"
      ]
     },
     "metadata": {},
     "output_type": "display_data"
    }
   ],
   "source": [
    "def random_signal(ts, n, amp, freq, decay):\n",
    "    dt = np.amax(ts)-np.amin(ts)\n",
    "    w = freq * 2.0*np.pi/dt\n",
    "    I = np.arange(n)\n",
    "    A = amp * np.random.randn(n) * np.exp(-decay*I)\n",
    "    T = 2.0*np.pi*np.random.random(n)\n",
    "    ws = np.sum(A[:,None]*np.sin(w*np.outer(I,ts)+T[:,None]), axis=0)\n",
    "    return ws\n",
    "\n",
    "# https://www.desmos.com/calculator/e5ghr5v301\n",
    "RAND_VEL = (15, 3.0, 0.05, 0.2)\n",
    "RAND_TWIST = (15, 3.0, 0.05, 0.2)\n",
    "RAND_POS_D = (7, 0.05, 0.65, 0.3)\n",
    "RAND_POSE_D = (7, 0.05, 0.65, 0.3)\n",
    "\n",
    "ts = np.linspace(0, 0.1)\n",
    "ws1 = random_signal(ts, *RAND_VEL)\n",
    "ws2 = random_signal(ts, *RAND_POS_D)\n",
    "\n",
    "import matplotlib.pyplot as plt\n",
    "%matplotlib inline\n",
    "plt.figure(figsize=(8,3))\n",
    "plt.plot(ts, ws1)\n",
    "plt.plot(ts, ws2)\n",
    "plt.grid()\n",
    "plt.show()"
   ]
  },
  {
   "cell_type": "code",
   "execution_count": 12,
   "metadata": {},
   "outputs": [],
   "source": [
    "def exp_so3(phi):\n",
    "    theta = np.linalg.norm(phi, axis=1).reshape((-1,1))\n",
    "    theta = np.fmax(theta, 1e-12*np.ones_like(theta))\n",
    "    n = phi / theta\n",
    "    nnT = np.einsum('ki,kj->kij', n, n)\n",
    "    n_star = np.zeros_like(nnT)\n",
    "    n_star[:,0,1] = -n[:,2]\n",
    "    n_star[:,0,2] = n[:,1]\n",
    "    n_star[:,1,0] = n[:,2]\n",
    "    n_star[:,1,2] = -n[:,0]\n",
    "    n_star[:,2,0] = -n[:,1]\n",
    "    n_star[:,2,1] = n[:,0]\n",
    "    I = np.eye(3).reshape((-1,3,3)).repeat(len(theta),axis=0)\n",
    "    theta = theta.reshape((-1,1,1))\n",
    "    R = np.cos(theta) * I + \\\n",
    "        (1.0-np.cos(theta)) * nnT + \\\n",
    "        np.sin(theta) * n_star\n",
    "    if True:\n",
    "        residual = np.einsum('nij,nkj->nik', R, R) - I\n",
    "        assert (np.linalg.norm(residual, axis=(1,2)) < 1e-12).all()\n",
    "    return R\n",
    "\n",
    "def apply_distortion(points, times):\n",
    "    times = times - np.amax(times)  # odometry starts at the end\n",
    "    delta_t = np.random.rand(len(times)) * np.median(times[1:]-times[:-1])\n",
    "    # print(delta_t)\n",
    "    # plt.hist(times[1:]-times[:-1], bins=1000)\n",
    "    # plt.xlim(0.0, 2e-5)\n",
    "    # plt.show()\n",
    "\n",
    "    # apply noise\n",
    "    vel = np.array([random_signal(times, *RAND_VEL) for _ in range(3)]).T\n",
    "    so3 = np.array([random_signal(times, *RAND_TWIST) for _ in range(3)]).T\n",
    "    vel_p = vel + np.cross(so3, points)\n",
    "    points = points - vel_p * delta_t[:,None]\n",
    "    \n",
    "    # apply bias distortion\n",
    "    pos_d = np.array([random_signal(times, *RAND_POS_D) for _ in range(3)]).T\n",
    "    so3_d = np.array([random_signal(times, *RAND_POSE_D) for _ in range(3)]).T\n",
    "    points = np.einsum('kij,kj->ki', exp_so3(so3_d), points) + pos_d\n",
    "\n",
    "    return points\n",
    "\n",
    "\n",
    "pcl1, times1 = all_clouds[4]\n",
    "pcl2 = apply_distortion(pcl1, times1)\n",
    "\n",
    "%matplotlib tk\n",
    "# %matplotlib inline\n",
    "\n",
    "fig = plt.figure(figsize=(14, 14))\n",
    "ax1 = fig.add_subplot(111, projection='3d')\n",
    "ax1.scatter(pcl1[:,0], pcl1[:,1], pcl1[:,2], s=1)\n",
    "ax1.scatter(pcl2[:,0], pcl2[:,1], pcl2[:,2], s=1)\n",
    "plt.show()"
   ]
  },
  {
   "cell_type": "markdown",
   "metadata": {},
   "source": [
    "Point embedding"
   ]
  },
  {
   "cell_type": "code",
   "execution_count": 13,
   "metadata": {},
   "outputs": [],
   "source": [
    "all_clouds_normalized = []\n",
    "for points, times in all_clouds:\n",
    "    norms = np.linalg.norm(points, axis=1)\n",
    "    mean_norm = np.mean(norms)\n",
    "    normalized = points / mean_norm\n",
    "    distorted = apply_distortion(points, times)\n",
    "    distorted_normalized = distorted / mean_norm\n",
    "    all_clouds_normalized.append((normalized, distorted_normalized, times, mean_norm))"
   ]
  },
  {
   "cell_type": "code",
   "execution_count": 15,
   "metadata": {},
   "outputs": [],
   "source": [
    "from scipy.spatial import KDTree\n",
    "\n",
    "NUM_NEIGHBORS = 20\n",
    "\n",
    "data_x = []\n",
    "data_y = []\n",
    "for cloud_gt, cloud, times, mean_norm in all_clouds_normalized:\n",
    "    times_normalized = (times-np.amin(times)) / (np.amax(times)-np.amin(times))\n",
    "    tree = KDTree(cloud)\n",
    "    for point_gt, point, time in zip(cloud_gt, cloud, times_normalized):\n",
    "        # decomposed point\n",
    "        point_norm = np.linalg.norm(point)\n",
    "        point_dir = point / point_norm\n",
    "        # neighbor moments\n",
    "        distances, indices = tree.query(point, NUM_NEIGHBORS+1)\n",
    "        displacements = cloud[indices[1:]] - point[None,:]\n",
    "        disps_mean = np.mean(displacements, axis=0)\n",
    "        disps_cov = np.cov(displacements.T).flatten()\n",
    "        # time embedding\n",
    "        time_embeddings = [time]\n",
    "        for i in range(1, 4):\n",
    "            time_embeddings += [np.cos(2*np.pi*i*time), np.sin(2*np.pi*i*time)]\n",
    "        # x data - concatenate\n",
    "        data_x.append(np.concatenate((\n",
    "            point, [point_norm], point_dir,\n",
    "            disps_mean, disps_cov,\n",
    "            time_embeddings)))\n",
    "        # y data - residual\n",
    "        data_y.append(point_gt-point)\n",
    "        pass\n",
    "    #break"
   ]
  },
  {
   "cell_type": "code",
   "execution_count": 16,
   "metadata": {},
   "outputs": [
    {
     "name": "stdout",
     "output_type": "stream",
     "text": [
      "(558225, 26)\n",
      "(558225, 3)\n"
     ]
    }
   ],
   "source": [
    "data_x = np.array(data_x)\n",
    "data_y = np.array(data_y)\n",
    "print(data_x.shape)\n",
    "print(data_y.shape)"
   ]
  },
  {
   "cell_type": "code",
   "execution_count": 17,
   "metadata": {},
   "outputs": [
    {
     "name": "stdout",
     "output_type": "stream",
     "text": [
      "[ 6.23167005e-02 -1.08937844e-01  4.23768432e-01  9.99838949e-01\n",
      "  1.35203288e-01  4.00753919e-02  3.91365566e-01  1.11627414e-03\n",
      "  1.63158188e-03 -9.01592615e-04  2.55936755e-03 -7.74640260e-05\n",
      " -1.51960693e-04 -7.74640260e-05  2.46716272e-03 -5.81935274e-06\n",
      " -1.51960693e-04 -5.81935274e-06  2.50877034e-03  4.97845084e-01\n",
      " -1.18985748e-03  7.33920840e-03 -1.71869961e-03 -1.18095511e-03\n",
      " -3.88289208e-03 -1.06791183e-03]\n",
      "[0.63151303 0.70101861 0.37815087 0.47842081 0.58607536 0.63244928\n",
      " 0.28891282 0.03698481 0.03653396 0.03569025 0.0089485  0.00526756\n",
      " 0.00681531 0.00526756 0.00624494 0.0044906  0.00681531 0.0044906\n",
      " 0.01004198 0.28833842 0.70649787 0.70767612 0.70703697 0.70717351\n",
      " 0.70754422 0.7066576 ]\n",
      "[-0.00066457  0.00232525  0.00331119]\n",
      "[0.0515446  0.04805294 0.05288259]\n"
     ]
    }
   ],
   "source": [
    "data_x_mean = np.mean(data_x, axis=0)\n",
    "data_x_std = np.std(data_x, axis=0)\n",
    "data_x_normalized = (data_x-data_x_mean) / data_x_std\n",
    "print(data_x_mean)\n",
    "print(data_x_std)\n",
    "\n",
    "data_y_mean = np.mean(data_y, axis=0)\n",
    "data_y_std = np.std(data_y, axis=0)\n",
    "data_y_normalized = (data_y-data_y_mean) / data_y_std\n",
    "print(data_y_mean)\n",
    "print(data_y_std)"
   ]
  },
  {
   "cell_type": "markdown",
   "metadata": {},
   "source": [
    "Train model"
   ]
  },
  {
   "cell_type": "code",
   "execution_count": 18,
   "metadata": {},
   "outputs": [
    {
     "name": "stdout",
     "output_type": "stream",
     "text": [
      "cuda\n",
      "Epoch 1/40, Train Loss: 0.6707, Val Loss: 0.6498\n",
      "Epoch 2/40, Train Loss: 0.6346, Val Loss: 0.6257\n",
      "Epoch 3/40, Train Loss: 0.6145, Val Loss: 0.6094\n",
      "Epoch 4/40, Train Loss: 0.5994, Val Loss: 0.6004\n",
      "Epoch 5/40, Train Loss: 0.5878, Val Loss: 0.5894\n",
      "Epoch 6/40, Train Loss: 0.5791, Val Loss: 0.5827\n",
      "Epoch 7/40, Train Loss: 0.5716, Val Loss: 0.5779\n",
      "Epoch 8/40, Train Loss: 0.5654, Val Loss: 0.5728\n",
      "Epoch 9/40, Train Loss: 0.5598, Val Loss: 0.5684\n",
      "Epoch 10/40, Train Loss: 0.5553, Val Loss: 0.5655\n",
      "Epoch 11/40, Train Loss: 0.5505, Val Loss: 0.5630\n",
      "Epoch 12/40, Train Loss: 0.5476, Val Loss: 0.5600\n",
      "Epoch 13/40, Train Loss: 0.5441, Val Loss: 0.5572\n",
      "Epoch 14/40, Train Loss: 0.5408, Val Loss: 0.5532\n",
      "Epoch 15/40, Train Loss: 0.5384, Val Loss: 0.5523\n",
      "Epoch 16/40, Train Loss: 0.5356, Val Loss: 0.5501\n",
      "Epoch 17/40, Train Loss: 0.5332, Val Loss: 0.5501\n",
      "Epoch 18/40, Train Loss: 0.5317, Val Loss: 0.5474\n",
      "Epoch 19/40, Train Loss: 0.5296, Val Loss: 0.5449\n",
      "Epoch 20/40, Train Loss: 0.5280, Val Loss: 0.5442\n",
      "Epoch 21/40, Train Loss: 0.5260, Val Loss: 0.5432\n",
      "Epoch 22/40, Train Loss: 0.5247, Val Loss: 0.5437\n",
      "Epoch 23/40, Train Loss: 0.5234, Val Loss: 0.5407\n",
      "Epoch 24/40, Train Loss: 0.5222, Val Loss: 0.5399\n",
      "Epoch 25/40, Train Loss: 0.5208, Val Loss: 0.5404\n",
      "Epoch 26/40, Train Loss: 0.5197, Val Loss: 0.5365\n",
      "Epoch 27/40, Train Loss: 0.5186, Val Loss: 0.5387\n",
      "Epoch 28/40, Train Loss: 0.5173, Val Loss: 0.5377\n",
      "Epoch 29/40, Train Loss: 0.5164, Val Loss: 0.5367\n",
      "Epoch 30/40, Train Loss: 0.5156, Val Loss: 0.5352\n",
      "Epoch 31/40, Train Loss: 0.5146, Val Loss: 0.5334\n",
      "Epoch 32/40, Train Loss: 0.5136, Val Loss: 0.5363\n",
      "Epoch 33/40, Train Loss: 0.5128, Val Loss: 0.5328\n",
      "Epoch 34/40, Train Loss: 0.5117, Val Loss: 0.5316\n",
      "Epoch 35/40, Train Loss: 0.5112, Val Loss: 0.5325\n",
      "Epoch 36/40, Train Loss: 0.5105, Val Loss: 0.5318\n",
      "Epoch 37/40, Train Loss: 0.5097, Val Loss: 0.5341\n",
      "Epoch 38/40, Train Loss: 0.5093, Val Loss: 0.5322\n",
      "Epoch 39/40, Train Loss: 0.5087, Val Loss: 0.5314\n",
      "Epoch 40/40, Train Loss: 0.5080, Val Loss: 0.5311\n"
     ]
    },
    {
     "data": {
      "image/png": "[encoded data removed]",
      "text/plain": [
       "<Figure size 1000x600 with 1 Axes>"
      ]
     },
     "metadata": {},
     "output_type": "display_data"
    }
   ],
   "source": [
    "import torch\n",
    "import torch.nn as nn\n",
    "import torch.optim as optim\n",
    "from torch.utils.data import TensorDataset, DataLoader\n",
    "\n",
    "device = 'cuda' if torch.cuda.is_available() else 'cpu'\n",
    "print(device)\n",
    "\n",
    "# Convert NumPy arrays to PyTorch tensors\n",
    "x_tensor = torch.from_numpy(data_x_normalized).float().to(device)\n",
    "y_tensor = torch.from_numpy(data_y_normalized).float().to(device)\n",
    "\n",
    "# Split the data into training and validation sets\n",
    "train_size = int(0.8 * len(x_tensor))\n",
    "val_size = len(x_tensor) - train_size\n",
    "train_data, val_data = torch.utils.data.random_split(TensorDataset(x_tensor, y_tensor), [train_size, val_size])\n",
    "\n",
    "# Create data loaders\n",
    "batch_size = 256\n",
    "train_loader = DataLoader(train_data, batch_size=batch_size, shuffle=True)\n",
    "val_loader = DataLoader(val_data, batch_size=batch_size, shuffle=False)\n",
    "\n",
    "# Define the MLP model\n",
    "class MLP(nn.Module):\n",
    "    def __init__(self, input_size, hidden_size, output_size):\n",
    "        super(MLP, self).__init__()\n",
    "        self.fc1 = nn.Linear(input_size, hidden_size)\n",
    "        self.fc2 = nn.Linear(hidden_size, hidden_size)\n",
    "        self.fc3 = nn.Linear(hidden_size, hidden_size)\n",
    "        self.fc4 = nn.Linear(hidden_size, output_size)\n",
    "\n",
    "    def forward(self, x):\n",
    "        x = torch.relu(self.fc1(x))\n",
    "        x = torch.relu(self.fc2(x))\n",
    "        x = torch.relu(self.fc3(x))\n",
    "        y = self.fc4(x)\n",
    "        return y\n",
    "\n",
    "# Instantiate the model\n",
    "input_size = x_tensor.shape[1]\n",
    "hidden_size = 128\n",
    "output_size = y_tensor.shape[1]\n",
    "model = MLP(input_size, hidden_size, output_size).to(device)\n",
    "\n",
    "# Define the loss function and optimizer\n",
    "criterion = nn.L1Loss().to(device)\n",
    "optimizer = optim.Adam(model.parameters(), lr=0.002)\n",
    "\n",
    "# Training loop\n",
    "num_epochs = 40\n",
    "train_losses = []\n",
    "val_losses = []\n",
    "\n",
    "for epoch in range(num_epochs):\n",
    "    train_loss = 0.0\n",
    "    val_loss = 0.0\n",
    "\n",
    "    # Training\n",
    "    for inputs, targets in train_loader:\n",
    "        optimizer.zero_grad()\n",
    "        outputs = model(inputs)\n",
    "        loss = criterion(outputs, targets)\n",
    "        loss.backward()\n",
    "        optimizer.step()\n",
    "        train_loss += loss.item() * inputs.size(0)\n",
    "\n",
    "    # Validation\n",
    "    with torch.no_grad():\n",
    "        for inputs, targets in val_loader:\n",
    "            outputs = model(inputs)\n",
    "            loss = criterion(outputs, targets)\n",
    "            val_loss += loss.item() * inputs.size(0)\n",
    "\n",
    "    train_loss /= len(train_data)\n",
    "    val_loss /= len(val_data)\n",
    "    train_losses.append(train_loss)\n",
    "    val_losses.append(val_loss)\n",
    "\n",
    "    print(f'Epoch {epoch+1}/{num_epochs}, Train Loss: {train_loss:.4f}, Val Loss: {val_loss:.4f}')\n",
    "\n",
    "# Plot the training curve\n",
    "%matplotlib inline\n",
    "plt.figure(figsize=(10, 6))\n",
    "plt.plot(range(num_epochs), train_losses, label='Training Loss')\n",
    "plt.plot(range(num_epochs), val_losses, label='Validation Loss')\n",
    "plt.xlabel('Epoch')\n",
    "plt.ylabel('Loss')\n",
    "plt.title('Training and Validation Loss')\n",
    "plt.legend()\n",
    "plt.show()"
   ]
  },
  {
   "cell_type": "markdown",
   "metadata": {},
   "source": [
    "Evaluate model"
   ]
  },
  {
   "cell_type": "code",
   "execution_count": 23,
   "metadata": {},
   "outputs": [],
   "source": [
    "def undistort_cloud(cloud, times):\n",
    "    data_x = []\n",
    "    times_normalized = (times-np.amin(times)) / (np.amax(times)-np.amin(times))\n",
    "    tree = KDTree(cloud)\n",
    "    for point, time in zip(cloud, times_normalized):\n",
    "        # decomposed point\n",
    "        point_norm = np.linalg.norm(point)\n",
    "        point_dir = point / point_norm\n",
    "        # neighbor moments\n",
    "        distances, indices = tree.query(point, NUM_NEIGHBORS+1)\n",
    "        displacements = cloud[indices[1:]] - point[None,:]\n",
    "        disps_mean = np.mean(displacements, axis=0)\n",
    "        disps_cov = np.cov(displacements.T).flatten()\n",
    "        # time embedding\n",
    "        time_embeddings = [time]\n",
    "        for i in range(1, 4):\n",
    "            time_embeddings += [np.cos(2*np.pi*i*time), np.sin(2*np.pi*i*time)]\n",
    "        # x data - concatenate\n",
    "        data_x.append(np.concatenate((\n",
    "            point, [point_norm], point_dir,\n",
    "            disps_mean, disps_cov,\n",
    "            time_embeddings)))\n",
    "    data_x = np.array(data_x)\n",
    "    \n",
    "    data_x_normalized = (data_x-data_x_mean)/data_x_std\n",
    "    x_tensor = torch.from_numpy(data_x_normalized).float().to(device)\n",
    "    with torch.no_grad():\n",
    "        y_tensor = model(x_tensor)\n",
    "    data_y_normalized = y_tensor.cpu().numpy()\n",
    "    data_y = data_y_normalized*data_y_std+data_y_mean\n",
    "    return cloud + data_y\n",
    "\n",
    "\n",
    "pcl1, times1 = all_clouds[4]\n",
    "pcl2 = apply_distortion(pcl1, times1)\n",
    "pcl3 = undistort_cloud(pcl2, times1)\n",
    "\n",
    "%matplotlib tk\n",
    "\n",
    "fig = plt.figure(figsize=(16, 10))\n",
    "ax1 = fig.add_subplot(121, projection='3d', proj_type='ortho')\n",
    "ax2 = fig.add_subplot(122, projection='3d', proj_type='ortho')\n",
    "# ax1.scatter(pcl1[:,0], pcl1[:,1], pcl1[:,2], s=0.2)\n",
    "ax1.scatter(pcl2[:,0], pcl2[:,1], pcl2[:,2], s=0.2)\n",
    "ax2.scatter(pcl3[:,0], pcl3[:,1], pcl3[:,2], s=0.2)\n",
    "plt.show()"
   ]
  }
 ],
 "metadata": {
  "kernelspec": {
   "display_name": "Python 3",
   "language": "python",
   "name": "python3"
  },
  "language_info": {
   "codemirror_mode": {
    "name": "ipython",
    "version": 3
   },
   "file_extension": ".py",
   "mimetype": "text/x-python",
   "name": "python",
   "nbconvert_exporter": "python",
   "pygments_lexer": "ipython3",
   "version": "3.8.10"
  }
 },
 "nbformat": 4,
 "nbformat_minor": 2
}
