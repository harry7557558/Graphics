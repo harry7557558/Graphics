{
 "cells": [
  {
   "cell_type": "markdown",
   "metadata": {},
   "source": [
    "Load data"
   ]
  },
  {
   "cell_type": "code",
   "execution_count": 1,
   "metadata": {},
   "outputs": [
    {
     "name": "stdout",
     "output_type": "stream",
     "text": [
      "106 clouds\n"
     ]
    }
   ],
   "source": [
    "import rosbag\n",
    "import sensor_msgs.point_cloud2\n",
    "\n",
    "import numpy as np\n",
    "\n",
    "# livox mid360 lidar undistorted using fast-lio\n",
    "bag_name = \"/home/harry7557558/2024-06-08-16-51-41.bag\"\n",
    "\n",
    "bag = rosbag.Bag(bag_name)\n",
    "\n",
    "all_clouds = []\n",
    "for topic, msg, msg_t in bag.read_messages():\n",
    "    if topic != \"/cloud_train_undistorted\":\n",
    "        continue\n",
    "    points = sensor_msgs.point_cloud2.read_points(\n",
    "            msg, field_names=(\"x\", \"y\", \"z\", \"curvature\"),\n",
    "            skip_nans=True)\n",
    "    points = np.array([*points])\n",
    "    positions = points[:, :3]\n",
    "    times = points[:, 3] / 1000\n",
    "    all_clouds.append((positions, times))\n",
    "\n",
    "print(len(all_clouds), 'clouds')"
   ]
  },
  {
   "cell_type": "markdown",
   "metadata": {},
   "source": [
    "Apply fake distortion"
   ]
  },
  {
   "cell_type": "code",
   "execution_count": 2,
   "metadata": {},
   "outputs": [
    {
     "data": {
      "image/png": "[encoded data removed]",
      "text/plain": [
       "<Figure size 800x300 with 1 Axes>"
      ]
     },
     "metadata": {},
     "output_type": "display_data"
    }
   ],
   "source": [
    "def random_signal(ts, n, amp, freq, decay):\n",
    "    dt = np.amax(ts)-np.amin(ts)\n",
    "    w = freq * 2.0*np.pi/dt\n",
    "    I = np.arange(n)\n",
    "    A = amp * np.random.randn(n) * np.exp(-decay*I)\n",
    "    T = 2.0*np.pi*np.random.random(n)\n",
    "    ws = np.sum(A[:,None]*np.sin(w*np.outer(I,ts)+T[:,None]), axis=0)\n",
    "    return ws\n",
    "\n",
    "# https://www.desmos.com/calculator/e5ghr5v301\n",
    "RAND_VEL = (15, 3.0, 0.05, 0.2)\n",
    "RAND_TWIST = (15, 3.0, 0.05, 0.2)\n",
    "RAND_POS_D = (7, 0.05, 0.65, 0.3)\n",
    "RAND_POSE_D = (7, 0.05, 0.65, 0.3)\n",
    "\n",
    "ts = np.linspace(0, 0.1)\n",
    "ws1 = random_signal(ts, *RAND_VEL)\n",
    "ws2 = random_signal(ts, *RAND_POS_D)\n",
    "\n",
    "import matplotlib.pyplot as plt\n",
    "%matplotlib inline\n",
    "plt.figure(figsize=(8,3))\n",
    "plt.plot(ts, ws1)\n",
    "plt.plot(ts, ws2)\n",
    "plt.grid()\n",
    "plt.show()"
   ]
  },
  {
   "cell_type": "code",
   "execution_count": 123,
   "metadata": {},
   "outputs": [],
   "source": [
    "def exp_so3(phi):\n",
    "    theta = np.linalg.norm(phi, axis=1).reshape((-1,1))\n",
    "    theta = np.fmax(theta, 1e-12*np.ones_like(theta))\n",
    "    n = phi / theta\n",
    "    nnT = np.einsum('ki,kj->kij', n, n)\n",
    "    n_star = np.zeros_like(nnT)\n",
    "    n_star[:,0,1] = -n[:,2]\n",
    "    n_star[:,0,2] = n[:,1]\n",
    "    n_star[:,1,0] = n[:,2]\n",
    "    n_star[:,1,2] = -n[:,0]\n",
    "    n_star[:,2,0] = -n[:,1]\n",
    "    n_star[:,2,1] = n[:,0]\n",
    "    I = np.eye(3).reshape((-1,3,3)).repeat(len(theta),axis=0)\n",
    "    theta = theta.reshape((-1,1,1))\n",
    "    R = np.cos(theta) * I + \\\n",
    "        (1.0-np.cos(theta)) * nnT + \\\n",
    "        np.sin(theta) * n_star\n",
    "    if True:\n",
    "        residual = np.einsum('nij,nkj->nik', R, R) - I\n",
    "        assert (np.linalg.norm(residual, axis=(1,2)) < 1e-12).all()\n",
    "    return R\n",
    "\n",
    "def apply_distortion(points, times):\n",
    "    times = times - np.amax(times)  # odometry starts at the end\n",
    "    delta_t = np.random.rand(len(times)) * np.median(times[1:]-times[:-1])\n",
    "    # print(delta_t)\n",
    "    # plt.hist(times[1:]-times[:-1], bins=1000)\n",
    "    # plt.xlim(0.0, 2e-5)\n",
    "    # plt.show()\n",
    "\n",
    "    # noise = 0.05 * np.random.randn(*points.shape)\n",
    "    # return points + noise\n",
    "\n",
    "    # apply noise\n",
    "    vel = np.array([random_signal(times, *RAND_VEL) for _ in range(3)]).T\n",
    "    so3 = np.array([random_signal(times, *RAND_TWIST) for _ in range(3)]).T\n",
    "    vel_p = vel + np.cross(so3, points)\n",
    "    points = points - vel_p * delta_t[:,None]\n",
    "    \n",
    "    # apply bias distortion\n",
    "    pos_d = np.array([random_signal(times, *RAND_POS_D) for _ in range(3)]).T\n",
    "    so3_d = np.array([random_signal(times, *RAND_POSE_D) for _ in range(3)]).T\n",
    "    points = np.einsum('kij,kj->ki', exp_so3(so3_d), points) + pos_d\n",
    "\n",
    "    return points\n",
    "\n",
    "\n",
    "pcl1, times1 = all_clouds[4]\n",
    "pcl2 = apply_distortion(pcl1, times1)\n",
    "\n",
    "%matplotlib tk\n",
    "# %matplotlib inline\n",
    "\n",
    "fig = plt.figure(figsize=(14, 14))\n",
    "ax1 = fig.add_subplot(111, projection='3d')\n",
    "ax1.scatter(pcl1[:,0], pcl1[:,1], pcl1[:,2], s=1)\n",
    "ax1.scatter(pcl2[:,0], pcl2[:,1], pcl2[:,2], s=1)\n",
    "plt.show()"
   ]
  },
  {
   "cell_type": "markdown",
   "metadata": {},
   "source": [
    "Normalize point clouds"
   ]
  },
  {
   "cell_type": "code",
   "execution_count": 124,
   "metadata": {},
   "outputs": [],
   "source": [
    "all_clouds_normalized = []\n",
    "for points, times in all_clouds:\n",
    "    distorted = apply_distortion(points, times)\n",
    "    norms = np.linalg.norm(distorted, axis=1)\n",
    "    mean_norm = np.mean(norms)\n",
    "    normalized = points / mean_norm\n",
    "    distorted_normalized = distorted / mean_norm\n",
    "    all_clouds_normalized.append((normalized, distorted_normalized, times, mean_norm))"
   ]
  },
  {
   "cell_type": "markdown",
   "metadata": {},
   "source": [
    "Create data"
   ]
  },
  {
   "cell_type": "code",
   "execution_count": 126,
   "metadata": {},
   "outputs": [
    {
     "name": "stdout",
     "output_type": "stream",
     "text": [
      "10 / 106\n",
      "20 / 106\n",
      "30 / 106\n",
      "40 / 106\n",
      "50 / 106\n",
      "60 / 106\n",
      "70 / 106\n",
      "80 / 106\n",
      "90 / 106\n",
      "100 / 106\n"
     ]
    }
   ],
   "source": [
    "from scipy.spatial import cKDTree\n",
    "from torch_geometric.data import Data, DataLoader\n",
    "import torch\n",
    "\n",
    "NUM_NEIGHBORS = 10\n",
    "\n",
    "def get_graph_edges(cloud):\n",
    "    tree = cKDTree(cloud)\n",
    "    distances, indices = tree.query(cloud, NUM_NEIGHBORS+1)\n",
    "    for i in range(NUM_NEIGHBORS):\n",
    "        edge_index.append([np.arange(len(cloud)), indices[:,i+1]])\n",
    "    return np.concatenate(edge_index, axis=1)\n",
    "\n",
    "all_data = []\n",
    "\n",
    "for cloud_gt, cloud, times, mean_norm in all_clouds_normalized:\n",
    "    times_normalized = (times-np.amin(times)) / (np.amax(times)-np.amin(times))\n",
    "    data_x = []\n",
    "    data_y = []\n",
    "    edge_index = []\n",
    "    for i1, (point_gt, point, time) in enumerate(zip(cloud_gt, cloud, times_normalized)):\n",
    "        # decomposed point\n",
    "        point_norm = np.linalg.norm(point)\n",
    "        point_dir = point / point_norm\n",
    "        # time embedding\n",
    "        time_embeddings = [time]\n",
    "        for i in range(1, 4):\n",
    "            time_embeddings += [np.cos(2*np.pi*i*time), np.sin(2*np.pi*i*time)]\n",
    "        # x data - concatenate\n",
    "        data_x.append(np.concatenate((\n",
    "            point, [point_norm], point_dir,\n",
    "            time_embeddings)))\n",
    "        # y data - residual\n",
    "        data_y.append(point_gt-point)\n",
    "\n",
    "    # indices\n",
    "    edge_index = get_graph_edges(cloud)\n",
    "\n",
    "    # pack data\n",
    "    data_x = torch.from_numpy(np.array(data_x)).float().contiguous()\n",
    "    data_y = torch.from_numpy(np.array(data_y)).float().contiguous()\n",
    "    edge_index = torch.from_numpy(np.array(edge_index)).contiguous()\n",
    "    data = Data(x=data_x, y=data_y, edge_index=edge_index)\n",
    "    all_data.append(data)\n",
    "    if len(all_data) % 10 == 0:\n",
    "        print(len(all_data), '/', len(all_clouds_normalized))\n",
    "\n",
    "import random\n",
    "random.seed(42)\n",
    "random.shuffle(all_data)"
   ]
  },
  {
   "cell_type": "markdown",
   "metadata": {},
   "source": [
    "Define model"
   ]
  },
  {
   "cell_type": "code",
   "execution_count": 139,
   "metadata": {},
   "outputs": [
    {
     "name": "stdout",
     "output_type": "stream",
     "text": [
      "torch.Size([5825, 3])\n",
      "torch.Size([5825, 3])\n",
      "0.5641567707061768 1.6001801490783691\n"
     ]
    }
   ],
   "source": [
    "import torch.nn.functional as F\n",
    "from torch_geometric.nn import Sequential, GCNConv\n",
    "\n",
    "\n",
    "class Model(torch.nn.Module):\n",
    "    \"\"\"https://arxiv.org/pdf/2007.02578\"\"\"\n",
    "\n",
    "    def __init__(self, n_in, n_out, n_hidden=32):\n",
    "        super(Model, self).__init__()\n",
    "\n",
    "        self.n_in = n_in\n",
    "        self.n_out = n_out\n",
    "\n",
    "        self.conv_i = torch.nn.Sequential(\n",
    "            torch.nn.Linear(n_in, n_hidden),\n",
    "            torch.nn.BatchNorm1d(n_hidden),\n",
    "            torch.nn.ReLU(),\n",
    "            torch.nn.Linear(n_hidden, n_hidden),\n",
    "            torch.nn.BatchNorm1d(n_hidden),\n",
    "            torch.nn.ReLU(),\n",
    "            torch.nn.Linear(n_hidden, n_hidden),\n",
    "            torch.nn.BatchNorm1d(n_hidden),\n",
    "            torch.nn.ReLU(),\n",
    "        )\n",
    "        self.conv_1 = Sequential('x,ei', [\n",
    "            (GCNConv(n_hidden, n_hidden), 'x,ei->x'),\n",
    "            torch.nn.BatchNorm1d(n_hidden),\n",
    "            torch.nn.ReLU(),\n",
    "            (GCNConv(n_hidden, n_hidden), 'x,ei->x'),\n",
    "            torch.nn.BatchNorm1d(n_hidden),\n",
    "            torch.nn.ReLU(),\n",
    "            (GCNConv(n_hidden, n_hidden), 'x,ei->x'),\n",
    "            torch.nn.BatchNorm1d(n_hidden),\n",
    "            torch.nn.ReLU(),\n",
    "        ])\n",
    "        self.conv_2 = Sequential('x,ei', [\n",
    "            (GCNConv(n_hidden, n_hidden), 'x,ei->x'),\n",
    "            torch.nn.BatchNorm1d(n_hidden),\n",
    "            torch.nn.ReLU(),\n",
    "            (GCNConv(n_hidden, n_hidden), 'x,ei->x'),\n",
    "            torch.nn.BatchNorm1d(n_hidden),\n",
    "            torch.nn.ReLU(),\n",
    "            (GCNConv(n_hidden, n_hidden), 'x,ei->x'),\n",
    "            torch.nn.BatchNorm1d(n_hidden),\n",
    "            torch.nn.ReLU(),\n",
    "        ])\n",
    "        self.conv_o = GCNConv(n_hidden, n_out)\n",
    "\n",
    "    def forward(self, x, ei):\n",
    "        xi = self.conv_i(x)\n",
    "        x1 = self.conv_1(xi, ei) + xi\n",
    "        x2 = self.conv_1(x1, ei) + x1\n",
    "        xo = self.conv_o(x2, ei)\n",
    "        return xo\n",
    "\n",
    "data = all_data[0]\n",
    "n_in = data.x.shape[1]\n",
    "n_out = data.y.shape[1]\n",
    "\n",
    "model = Model(n_in, n_out)\n",
    "# print(model)\n",
    "print(data.y.shape)\n",
    "data_y = model(data.x, data.edge_index)\n",
    "print(data_y.shape)\n",
    "print(data_y.mean().item(), data_y.std().item())"
   ]
  },
  {
   "cell_type": "markdown",
   "metadata": {},
   "source": [
    "Train model"
   ]
  },
  {
   "cell_type": "code",
   "execution_count": 140,
   "metadata": {},
   "outputs": [
    {
     "name": "stdout",
     "output_type": "stream",
     "text": [
      "cuda\n"
     ]
    }
   ],
   "source": [
    "train_loader = DataLoader(all_data[:int(0.8 * len(all_data))], batch_size=2, shuffle=True)\n",
    "val_loader = DataLoader(all_data[int(0.8 * len(all_data)):], batch_size=1, shuffle=False)\n",
    "\n",
    "device = 'cuda' if torch.cuda.is_available() else 'cpu'\n",
    "# device = 'cpu'\n",
    "print(device)\n",
    "\n",
    "model = Model(n_in, n_out).to(device)\n",
    "\n",
    "optimizer = torch.optim.Adam(model.parameters(), lr=0.002)\n",
    "criterion = torch.nn.L1Loss().to(device)\n"
   ]
  },
  {
   "cell_type": "code",
   "execution_count": 141,
   "metadata": {},
   "outputs": [
    {
     "name": "stdout",
     "output_type": "stream",
     "text": [
      "start, val 0.1562\n",
      "epoch 5, train 0.0697, val 0.0737\n",
      "epoch 10, train 0.0514, val 0.0501\n",
      "epoch 15, train 0.0471, val 0.0507\n",
      "epoch 20, train 0.0433, val 0.0456\n",
      "epoch 25, train 0.0423, val 0.0401\n",
      "epoch 30, train 0.0407, val 0.0390\n",
      "epoch 35, train 0.0401, val 0.0427\n",
      "epoch 40, train 0.0405, val 0.0385\n",
      "epoch 45, train 0.0403, val 0.0396\n",
      "epoch 50, train 0.0401, val 0.0373\n",
      "epoch 55, train 0.0401, val 0.0381\n",
      "epoch 60, train 0.0386, val 0.0379\n",
      "epoch 65, train 0.0375, val 0.0367\n",
      "epoch 70, train 0.0378, val 0.0350\n",
      "epoch 75, train 0.0383, val 0.0377\n",
      "epoch 80, train 0.0378, val 0.0361\n",
      "epoch 85, train 0.0378, val 0.0351\n",
      "epoch 90, train 0.0379, val 0.0367\n",
      "epoch 95, train 0.0374, val 0.0364\n",
      "epoch 100, train 0.0372, val 0.0372\n"
     ]
    },
    {
     "data": {
      "image/png": "[encoded data removed]",
      "text/plain": [
       "<Figure size 800x500 with 1 Axes>"
      ]
     },
     "metadata": {},
     "output_type": "display_data"
    }
   ],
   "source": [
    "def train(loader):\n",
    "    model.train()\n",
    "    total_loss = 0\n",
    "    for data in loader:\n",
    "        data = data.to(device)\n",
    "        optimizer.zero_grad()\n",
    "        out = model(data.x, data.edge_index)\n",
    "        loss = criterion(out, data.y)\n",
    "        loss.backward()\n",
    "        optimizer.step()\n",
    "        total_loss += loss.item()\n",
    "    return total_loss / len(loader)\n",
    "\n",
    "def test(loader):\n",
    "    model.eval()\n",
    "    loss = 0\n",
    "    for data in loader:\n",
    "        data = data.to(device)\n",
    "        with torch.no_grad():\n",
    "            out = model(data.x, data.edge_index)\n",
    "            loss += criterion(out, data.y).item()\n",
    "    return loss / len(loader)\n",
    "\n",
    "val_loss = test(val_loader)\n",
    "print(f\"start, val {val_loss:.4f}\")\n",
    "\n",
    "train_losses = []\n",
    "val_losses = []\n",
    "\n",
    "num_epochs = 100\n",
    "for epoch in range(num_epochs):\n",
    "    train_loss = train(train_loader)\n",
    "    val_loss = test(val_loader)\n",
    "    if (epoch+1) % 5 == 0:\n",
    "        print(f'epoch {epoch+1}, train {train_loss:.4f}, val {val_loss:.4f}')\n",
    "    train_losses.append(train_loss)\n",
    "    val_losses.append(val_loss)\n",
    "\n",
    "%matplotlib inline\n",
    "plt.figure(figsize=(8, 5))\n",
    "plt.plot(range(num_epochs), train_losses, label='Training Loss')\n",
    "plt.plot(range(num_epochs), val_losses, label='Validation Loss')\n",
    "plt.xlabel('Epoch')\n",
    "plt.ylabel('Loss')\n",
    "plt.title('Training and Validation Loss')\n",
    "plt.legend()\n",
    "plt.grid()\n",
    "plt.yscale('log')\n",
    "plt.show()"
   ]
  },
  {
   "cell_type": "markdown",
   "metadata": {},
   "source": [
    "Evaluate model"
   ]
  },
  {
   "cell_type": "code",
   "execution_count": 142,
   "metadata": {},
   "outputs": [
    {
     "name": "stdout",
     "output_type": "stream",
     "text": [
      "3.140231517837027\n",
      "-0.013920839 0.024989214\n",
      "0.02498921388332479\n",
      "0.04238600434588643\n",
      "0.037830117244182795\n"
     ]
    }
   ],
   "source": [
    "def undistort_cloud(cloud, times):\n",
    "    times_normalized = (times-np.amin(times)) / (np.amax(times)-np.amin(times))\n",
    "    tree = KDTree(cloud)\n",
    "    data_x = []\n",
    "    edge_index = set()\n",
    "    for i1, (point, time) in enumerate(zip(cloud, times_normalized)):\n",
    "        # decomposed point\n",
    "        point_norm = np.linalg.norm(point)\n",
    "        point_dir = point / point_norm\n",
    "        # time embedding\n",
    "        time_embeddings = [time]\n",
    "        for i in range(1, 4):\n",
    "            time_embeddings += [np.cos(2*np.pi*i*time), np.sin(2*np.pi*i*time)]\n",
    "        # x data - concatenate\n",
    "        data_x.append(np.concatenate((\n",
    "            point, [point_norm], point_dir,\n",
    "            time_embeddings)))\n",
    "        # indices\n",
    "        distances, indices = tree.query(point, NUM_NEIGHBORS+1)\n",
    "        for i2 in indices[1:]:\n",
    "            edge_index.add((i1, i2))\n",
    "            edge_index.add((i2, i1))\n",
    "    # pack data\n",
    "    data_x = torch.from_numpy(np.array(data_x)).float().contiguous()\n",
    "    edge_index = list(edge_index)\n",
    "    edge_index = torch.from_numpy(np.array(edge_index)).contiguous()\n",
    "\n",
    "    # inference model\n",
    "    with torch.no_grad():\n",
    "        out = model(data_x.to(device), edge_index.T.to(device))\n",
    "    out = out.cpu().numpy()\n",
    "    print(out.mean(), out.std())\n",
    "    return cloud + out\n",
    "\n",
    "\n",
    "pcl1, times1 = all_clouds[4]\n",
    "pcl2 = apply_distortion(pcl1, times1)\n",
    "\n",
    "norms = np.linalg.norm(pcl2, axis=1)\n",
    "mean_norm = np.mean(norms)\n",
    "pcl1_normalized = pcl1 / mean_norm\n",
    "pcl2_normalized = pcl2 / mean_norm\n",
    "\n",
    "print(mean_norm)\n",
    "pcl3_normalized = undistort_cloud(pcl2_normalized, times1)\n",
    "pcl3 = pcl3_normalized * mean_norm\n",
    "\n",
    "print((pcl3-pcl2).std()/mean_norm)\n",
    "print((pcl3-pcl1).std()/mean_norm)\n",
    "print((pcl2-pcl1).std()/mean_norm)\n",
    "\n",
    "%matplotlib tk\n",
    "\n",
    "fig = plt.figure(figsize=(16, 10))\n",
    "ax1 = fig.add_subplot(121, projection='3d', proj_type='ortho')\n",
    "ax2 = fig.add_subplot(122, projection='3d', proj_type='ortho')\n",
    "ax1.scatter(pcl1[:,0], pcl1[:,1], pcl1[:,2], s=0.2)\n",
    "ax1.scatter(pcl2[:,0], pcl2[:,1], pcl2[:,2], s=0.2)\n",
    "ax2.scatter(pcl1[:,0], pcl1[:,1], pcl1[:,2], s=0.2)\n",
    "ax2.scatter(pcl3[:,0], pcl3[:,1], pcl3[:,2], s=0.2)\n",
    "plt.show()"
   ]
  }
 ],
 "metadata": {
  "kernelspec": {
   "display_name": "Python 3",
   "language": "python",
   "name": "python3"
  },
  "language_info": {
   "codemirror_mode": {
    "name": "ipython",
    "version": 3
   },
   "file_extension": ".py",
   "mimetype": "text/x-python",
   "name": "python",
   "nbconvert_exporter": "python",
   "pygments_lexer": "ipython3",
   "version": "3.8.10"
  }
 },
 "nbformat": 4,
 "nbformat_minor": 2
}
