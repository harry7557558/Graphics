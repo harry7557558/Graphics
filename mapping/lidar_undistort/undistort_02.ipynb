{
 "cells": [
  {
   "cell_type": "markdown",
   "metadata": {},
   "source": [
    "Load data"
   ]
  },
  {
   "cell_type": "code",
   "execution_count": 1,
   "metadata": {},
   "outputs": [
    {
     "name": "stdout",
     "output_type": "stream",
     "text": [
      "106 clouds\n"
     ]
    }
   ],
   "source": [
    "import rosbag\n",
    "import sensor_msgs.point_cloud2\n",
    "\n",
    "import numpy as np\n",
    "\n",
    "# livox mid360 lidar undistorted using fast-lio\n",
    "bag_name = \"/home/harry7557558/2024-06-08-16-51-41.bag\"\n",
    "\n",
    "bag = rosbag.Bag(bag_name)\n",
    "\n",
    "all_clouds = []\n",
    "for topic, msg, msg_t in bag.read_messages():\n",
    "    if topic != \"/cloud_train_undistorted\":\n",
    "        continue\n",
    "    points = sensor_msgs.point_cloud2.read_points(\n",
    "            msg, field_names=(\"x\", \"y\", \"z\", \"curvature\"),\n",
    "            skip_nans=True)\n",
    "    points = np.array([*points])\n",
    "    positions = points[:, :3]\n",
    "    times = points[:, 3] / 1000\n",
    "    all_clouds.append((positions, times))\n",
    "\n",
    "print(len(all_clouds), 'clouds')"
   ]
  },
  {
   "cell_type": "markdown",
   "metadata": {},
   "source": [
    "Apply fake distortion"
   ]
  },
  {
   "cell_type": "code",
   "execution_count": 2,
   "metadata": {},
   "outputs": [
    {
     "data": {
      "image/png": "[encoded data removed]",
      "text/plain": [
       "<Figure size 800x300 with 1 Axes>"
      ]
     },
     "metadata": {},
     "output_type": "display_data"
    }
   ],
   "source": [
    "def random_signal(ts, n, amp, freq, decay):\n",
    "    dt = np.amax(ts)-np.amin(ts)\n",
    "    w = freq * 2.0*np.pi/dt\n",
    "    I = np.arange(n)\n",
    "    A = amp * np.random.randn(n) * np.exp(-decay*I)\n",
    "    T = 2.0*np.pi*np.random.random(n)\n",
    "    ws = np.sum(A[:,None]*np.sin(w*np.outer(I,ts)+T[:,None]), axis=0)\n",
    "    return ws\n",
    "\n",
    "# https://www.desmos.com/calculator/e5ghr5v301\n",
    "RAND_VEL = (15, 3.0, 0.05, 0.2)\n",
    "RAND_TWIST = (15, 3.0, 0.05, 0.2)\n",
    "RAND_POS_D = (7, 0.05, 0.65, 0.3)\n",
    "RAND_POSE_D = (7, 0.05, 0.65, 0.3)\n",
    "\n",
    "ts = np.linspace(0, 0.1)\n",
    "ws1 = random_signal(ts, *RAND_VEL)\n",
    "ws2 = random_signal(ts, *RAND_POS_D)\n",
    "\n",
    "import matplotlib.pyplot as plt\n",
    "%matplotlib inline\n",
    "plt.figure(figsize=(8,3))\n",
    "plt.plot(ts, ws1)\n",
    "plt.plot(ts, ws2)\n",
    "plt.grid()\n",
    "plt.show()"
   ]
  },
  {
   "cell_type": "code",
   "execution_count": 3,
   "metadata": {},
   "outputs": [],
   "source": [
    "def exp_so3(phi):\n",
    "    theta = np.linalg.norm(phi, axis=1).reshape((-1,1))\n",
    "    theta = np.fmax(theta, 1e-12*np.ones_like(theta))\n",
    "    n = phi / theta\n",
    "    nnT = np.einsum('ki,kj->kij', n, n)\n",
    "    n_star = np.zeros_like(nnT)\n",
    "    n_star[:,0,1] = -n[:,2]\n",
    "    n_star[:,0,2] = n[:,1]\n",
    "    n_star[:,1,0] = n[:,2]\n",
    "    n_star[:,1,2] = -n[:,0]\n",
    "    n_star[:,2,0] = -n[:,1]\n",
    "    n_star[:,2,1] = n[:,0]\n",
    "    I = np.eye(3).reshape((-1,3,3)).repeat(len(theta),axis=0)\n",
    "    theta = theta.reshape((-1,1,1))\n",
    "    R = np.cos(theta) * I + \\\n",
    "        (1.0-np.cos(theta)) * nnT + \\\n",
    "        np.sin(theta) * n_star\n",
    "    if True:\n",
    "        residual = np.einsum('nij,nkj->nik', R, R) - I\n",
    "        assert (np.linalg.norm(residual, axis=(1,2)) < 1e-12).all()\n",
    "    return R\n",
    "\n",
    "def apply_distortion(points, times):\n",
    "    times = times - np.amax(times)  # odometry starts at the end\n",
    "    delta_t = np.random.rand(len(times)) * np.median(times[1:]-times[:-1])\n",
    "    # print(delta_t)\n",
    "    # plt.hist(times[1:]-times[:-1], bins=1000)\n",
    "    # plt.xlim(0.0, 2e-5)\n",
    "    # plt.show()\n",
    "\n",
    "    # noise = 0.05 * np.random.randn(*points.shape)\n",
    "    # return points + noise\n",
    "\n",
    "    # apply noise\n",
    "    vel = np.array([random_signal(times, *RAND_VEL) for _ in range(3)]).T\n",
    "    so3 = np.array([random_signal(times, *RAND_TWIST) for _ in range(3)]).T\n",
    "    vel_p = vel + np.cross(so3, points)\n",
    "    points = points - vel_p * delta_t[:,None]\n",
    "    \n",
    "    # apply bias distortion\n",
    "    pos_d = np.array([random_signal(times, *RAND_POS_D) for _ in range(3)]).T\n",
    "    so3_d = np.array([random_signal(times, *RAND_POSE_D) for _ in range(3)]).T\n",
    "    points = np.einsum('kij,kj->ki', exp_so3(so3_d), points) + pos_d\n",
    "\n",
    "    return points\n",
    "\n",
    "\n",
    "pcl1, times1 = all_clouds[4]\n",
    "pcl2 = apply_distortion(pcl1, times1)\n",
    "\n",
    "%matplotlib tk\n",
    "# %matplotlib inline\n",
    "\n",
    "fig = plt.figure(figsize=(14, 14))\n",
    "ax1 = fig.add_subplot(111, projection='3d')\n",
    "ax1.scatter(pcl1[:,0], pcl1[:,1], pcl1[:,2], s=1)\n",
    "ax1.scatter(pcl2[:,0], pcl2[:,1], pcl2[:,2], s=1)\n",
    "plt.show()"
   ]
  },
  {
   "cell_type": "markdown",
   "metadata": {},
   "source": [
    "Normalize point clouds"
   ]
  },
  {
   "cell_type": "code",
   "execution_count": 4,
   "metadata": {},
   "outputs": [],
   "source": [
    "all_clouds_normalized = []\n",
    "for points, times in all_clouds:\n",
    "    norms = np.linalg.norm(points, axis=1)\n",
    "    mean_norm = np.mean(norms)\n",
    "    normalized = points / mean_norm\n",
    "    distorted = apply_distortion(points, times)\n",
    "    distorted_normalized = distorted / mean_norm\n",
    "    all_clouds_normalized.append((normalized, distorted_normalized, times, mean_norm))"
   ]
  },
  {
   "cell_type": "markdown",
   "metadata": {},
   "source": [
    "Create data"
   ]
  },
  {
   "cell_type": "code",
   "execution_count": 5,
   "metadata": {},
   "outputs": [
    {
     "name": "stdout",
     "output_type": "stream",
     "text": [
      "10 / 106\n",
      "20 / 106\n",
      "30 / 106\n",
      "40 / 106\n",
      "50 / 106\n",
      "60 / 106\n",
      "70 / 106\n",
      "80 / 106\n",
      "90 / 106\n",
      "100 / 106\n"
     ]
    }
   ],
   "source": [
    "from scipy.spatial import KDTree\n",
    "from torch_geometric.data import Data, DataLoader\n",
    "import torch\n",
    "\n",
    "NUM_NEIGHBORS = 5\n",
    "\n",
    "all_data = []\n",
    "\n",
    "for cloud_gt, cloud, times, mean_norm in all_clouds_normalized:\n",
    "    times_normalized = (times-np.amin(times)) / (np.amax(times)-np.amin(times))\n",
    "    tree = KDTree(cloud)\n",
    "    data_x = []\n",
    "    data_y = []\n",
    "    edge_index = set()\n",
    "    for i1, (point_gt, point, time) in enumerate(zip(cloud_gt, cloud, times_normalized)):\n",
    "        # decomposed point\n",
    "        point_norm = np.linalg.norm(point)\n",
    "        point_dir = point / point_norm\n",
    "        # time embedding\n",
    "        time_embeddings = [time]\n",
    "        for i in range(1, 4):\n",
    "            time_embeddings += [np.cos(2*np.pi*i*time), np.sin(2*np.pi*i*time)]\n",
    "        # x data - concatenate\n",
    "        data_x.append(np.concatenate((\n",
    "            point, [point_norm], point_dir,\n",
    "            time_embeddings)))\n",
    "        # y data - residual\n",
    "        data_y.append(point_gt-point)\n",
    "        # indices\n",
    "        distances, indices = tree.query(point, NUM_NEIGHBORS+1)\n",
    "        for i2 in indices[1:]:\n",
    "            edge_index.add((i1, i2))\n",
    "            edge_index.add((i2, i1))\n",
    "    # pack data\n",
    "    data_x = torch.from_numpy(np.array(data_x)).float().contiguous()\n",
    "    data_y = torch.from_numpy(np.array(data_y)).float().contiguous()\n",
    "    edge_index = list(edge_index)\n",
    "    edge_index = torch.from_numpy(np.array(edge_index)).contiguous()\n",
    "    data = Data(x=data_x, y=data_y, edge_index=edge_index.T)\n",
    "    all_data.append(data)\n",
    "    if len(all_data) % 10 == 0:\n",
    "        print(len(all_data), '/', len(all_clouds_normalized))\n",
    "\n",
    "import random\n",
    "random.seed(42)\n",
    "random.shuffle(all_data)"
   ]
  },
  {
   "cell_type": "markdown",
   "metadata": {},
   "source": [
    "Define model"
   ]
  },
  {
   "cell_type": "code",
   "execution_count": 6,
   "metadata": {},
   "outputs": [
    {
     "name": "stdout",
     "output_type": "stream",
     "text": [
      "Model(\n",
      "  (convs): ModuleList(\n",
      "    (0): GATConv(14, 64, heads=4)\n",
      "    (1-10): 10 x GATConv(256, 64, heads=4)\n",
      "    (11): GATConv(256, 3, heads=1)\n",
      "  )\n",
      "  (final_linear): Linear(in_features=2816, out_features=3, bias=True)\n",
      ")\n",
      "torch.Size([5825, 3])\n",
      "torch.Size([5825, 3])\n",
      "0.0025537924375385046 0.08534074574708939\n"
     ]
    }
   ],
   "source": [
    "import torch.nn.functional as F\n",
    "from torch_geometric.nn import GATConv\n",
    "\n",
    "\n",
    "class Model(torch.nn.Module):\n",
    "    def __init__(self, in_channels, out_channels, hidden_channels=64, num_layers=4, heads=4, mode='cat'):\n",
    "        super(Model, self).__init__()\n",
    "        self.convs = torch.nn.ModuleList()\n",
    "        self.convs.append(GATConv(in_channels, hidden_channels, heads=heads))\n",
    "        for _ in range(num_layers - 2):\n",
    "            self.convs.append(GATConv(hidden_channels * heads, hidden_channels, heads=heads))\n",
    "        self.convs.append(GATConv(hidden_channels * heads, out_channels, heads=1))\n",
    "\n",
    "        self.mode = mode\n",
    "        if self.mode == 'cat':\n",
    "            self.jk = lambda xs: torch.cat(xs, dim=-1)\n",
    "        elif self.mode == 'max':\n",
    "            self.jk = lambda xs: torch.stack(xs, dim=-1).max(dim=-1)[0]\n",
    "        elif self.mode == 'lstm':\n",
    "            self.lstm = torch.nn.LSTM(hidden_channels * heads, hidden_channels * heads, batch_first=True)\n",
    "            self.jk = lambda xs: self.lstm(torch.stack(xs, dim=1))[0][:, -1, :]\n",
    "\n",
    "        jk_channels = hidden_channels * heads * (num_layers - 1) if mode == 'cat' else hidden_channels * heads\n",
    "        self.final_linear = torch.nn.Linear(jk_channels, out_channels)\n",
    "\n",
    "    def forward(self, x, edge_index):\n",
    "        xs = []\n",
    "        for conv in self.convs[:-1]:\n",
    "            x = F.elu(conv(x, edge_index))\n",
    "            xs.append(x)\n",
    "        x = self.jk(xs)\n",
    "        x = self.final_linear(x)\n",
    "        return x\n",
    "\n",
    "data = all_data[0]\n",
    "in_channels = data.x.shape[1]\n",
    "out_channels = data.y.shape[1]\n",
    "\n",
    "model = Model(in_channels, out_channels,\n",
    "              hidden_channels=64, num_layers=12, heads=4, mode='cat')\n",
    "print(model)\n",
    "print(data.y.shape)\n",
    "data_y = model(data.x, data.edge_index)\n",
    "print(data_y.shape)\n",
    "print(data_y.mean().item(), data_y.std().item())"
   ]
  },
  {
   "cell_type": "markdown",
   "metadata": {},
   "source": [
    "Train model"
   ]
  },
  {
   "cell_type": "code",
   "execution_count": 7,
   "metadata": {},
   "outputs": [
    {
     "name": "stderr",
     "output_type": "stream",
     "text": [
      "/home/harry7557558/.local/lib/python3.8/site-packages/torch_geometric/deprecation.py:26: UserWarning: 'data.DataLoader' is deprecated, use 'loader.DataLoader' instead\n",
      "  warnings.warn(out)\n"
     ]
    },
    {
     "name": "stdout",
     "output_type": "stream",
     "text": [
      "cuda\n"
     ]
    }
   ],
   "source": [
    "train_loader = DataLoader(all_data[:int(0.8 * len(all_data))], batch_size=4, shuffle=True)\n",
    "val_loader = DataLoader(all_data[int(0.8 * len(all_data)):], batch_size=1, shuffle=False)\n",
    "\n",
    "device = 'cuda' if torch.cuda.is_available() else 'cpu'\n",
    "# device = 'cpu'\n",
    "print(device)\n",
    "\n",
    "model = Model(in_channels, out_channels).to(device)\n",
    "\n",
    "optimizer = torch.optim.Adam(model.parameters(), lr=0.001)\n",
    "criterion = torch.nn.L1Loss().to(device)\n"
   ]
  },
  {
   "cell_type": "code",
   "execution_count": 8,
   "metadata": {},
   "outputs": [
    {
     "name": "stdout",
     "output_type": "stream",
     "text": [
      "start, val 0.0929\n",
      "epoch 5, train 0.0395, val 0.0400\n",
      "epoch 10, train 0.0380, val 0.0379\n",
      "epoch 15, train 0.0364, val 0.0380\n",
      "epoch 20, train 0.0360, val 0.0388\n",
      "epoch 25, train 0.0363, val 0.0387\n",
      "epoch 30, train 0.0362, val 0.0361\n",
      "epoch 35, train 0.0362, val 0.0367\n",
      "epoch 40, train 0.0363, val 0.0368\n",
      "epoch 45, train 0.0359, val 0.0366\n",
      "epoch 50, train 0.0363, val 0.0364\n",
      "epoch 55, train 0.0361, val 0.0368\n",
      "epoch 60, train 0.0354, val 0.0374\n",
      "epoch 65, train 0.0356, val 0.0369\n",
      "epoch 70, train 0.0359, val 0.0377\n",
      "epoch 75, train 0.0357, val 0.0374\n",
      "epoch 80, train 0.0360, val 0.0369\n",
      "epoch 85, train 0.0351, val 0.0374\n",
      "epoch 90, train 0.0355, val 0.0364\n",
      "epoch 95, train 0.0357, val 0.0370\n",
      "epoch 100, train 0.0353, val 0.0368\n"
     ]
    },
    {
     "data": {
      "image/png": "[encoded data removed]",
      "text/plain": [
       "<Figure size 800x500 with 1 Axes>"
      ]
     },
     "metadata": {},
     "output_type": "display_data"
    }
   ],
   "source": [
    "def train(loader):\n",
    "    model.train()\n",
    "    total_loss = 0\n",
    "    for data in loader:\n",
    "        data = data.to(device)\n",
    "        optimizer.zero_grad()\n",
    "        out = model(data.x, data.edge_index)\n",
    "        loss = criterion(out, data.y)\n",
    "        loss.backward()\n",
    "        optimizer.step()\n",
    "        total_loss += loss.item()\n",
    "    return total_loss / len(loader)\n",
    "\n",
    "def test(loader):\n",
    "    model.eval()\n",
    "    loss = 0\n",
    "    for data in loader:\n",
    "        data = data.to(device)\n",
    "        with torch.no_grad():\n",
    "            out = model(data.x, data.edge_index)\n",
    "            loss += criterion(out, data.y).item()\n",
    "    return loss / len(loader)\n",
    "\n",
    "val_loss = test(val_loader)\n",
    "print(f\"start, val {val_loss:.4f}\")\n",
    "\n",
    "train_losses = []\n",
    "val_losses = []\n",
    "\n",
    "num_epochs = 100\n",
    "for epoch in range(num_epochs):\n",
    "    train_loss = train(train_loader)\n",
    "    val_loss = test(val_loader)\n",
    "    if (epoch+1) % 5 == 0:\n",
    "        print(f'epoch {epoch+1}, train {train_loss:.4f}, val {val_loss:.4f}')\n",
    "    train_losses.append(train_loss)\n",
    "    val_losses.append(val_loss)\n",
    "\n",
    "%matplotlib inline\n",
    "plt.figure(figsize=(8, 5))\n",
    "plt.plot(range(num_epochs), train_losses, label='Training Loss')\n",
    "plt.plot(range(num_epochs), val_losses, label='Validation Loss')\n",
    "plt.xlabel('Epoch')\n",
    "plt.ylabel('Loss')\n",
    "plt.title('Training and Validation Loss')\n",
    "plt.legend()\n",
    "plt.grid()\n",
    "plt.show()"
   ]
  },
  {
   "cell_type": "markdown",
   "metadata": {},
   "source": [
    "Evaluate model"
   ]
  },
  {
   "cell_type": "code",
   "execution_count": 9,
   "metadata": {},
   "outputs": [
    {
     "name": "stdout",
     "output_type": "stream",
     "text": [
      "3.130031062963576\n",
      "0.002017798 0.011363907\n",
      "0.011363905973642067\n",
      "0.0467543470029019\n",
      "0.04971567082829518\n"
     ]
    }
   ],
   "source": [
    "def undistort_cloud(cloud, times):\n",
    "    times_normalized = (times-np.amin(times)) / (np.amax(times)-np.amin(times))\n",
    "    tree = KDTree(cloud)\n",
    "    data_x = []\n",
    "    edge_index = set()\n",
    "    for i1, (point, time) in enumerate(zip(cloud, times_normalized)):\n",
    "        # decomposed point\n",
    "        point_norm = np.linalg.norm(point)\n",
    "        point_dir = point / point_norm\n",
    "        # time embedding\n",
    "        time_embeddings = [time]\n",
    "        for i in range(1, 4):\n",
    "            time_embeddings += [np.cos(2*np.pi*i*time), np.sin(2*np.pi*i*time)]\n",
    "        # x data - concatenate\n",
    "        data_x.append(np.concatenate((\n",
    "            point, [point_norm], point_dir,\n",
    "            time_embeddings)))\n",
    "        # indices\n",
    "        distances, indices = tree.query(point, NUM_NEIGHBORS+1)\n",
    "        for i2 in indices[1:]:\n",
    "            edge_index.add((i1, i2))\n",
    "            edge_index.add((i2, i1))\n",
    "    # pack data\n",
    "    data_x = torch.from_numpy(np.array(data_x)).float().contiguous()\n",
    "    edge_index = list(edge_index)\n",
    "    edge_index = torch.from_numpy(np.array(edge_index)).contiguous()\n",
    "\n",
    "    # inference model\n",
    "    with torch.no_grad():\n",
    "        out = model(data_x.to(device), edge_index.T.to(device))\n",
    "    out = out.cpu().numpy()\n",
    "    print(out.mean(), out.std())\n",
    "    return cloud + out\n",
    "\n",
    "\n",
    "pcl1, times1 = all_clouds[4]\n",
    "pcl2 = apply_distortion(pcl1, times1)\n",
    "\n",
    "norms = np.linalg.norm(pcl2, axis=1)\n",
    "mean_norm = np.mean(norms)\n",
    "pcl1_normalized = pcl1 / mean_norm\n",
    "pcl2_normalized = pcl2 / mean_norm\n",
    "\n",
    "print(mean_norm)\n",
    "pcl3_normalized = undistort_cloud(pcl2_normalized, times1)\n",
    "pcl3 = pcl3_normalized * mean_norm\n",
    "\n",
    "print((pcl3-pcl2).std()/mean_norm)\n",
    "print((pcl3-pcl1).std()/mean_norm)\n",
    "print((pcl2-pcl1).std()/mean_norm)\n",
    "\n",
    "%matplotlib tk\n",
    "\n",
    "fig = plt.figure(figsize=(16, 10))\n",
    "ax1 = fig.add_subplot(121, projection='3d', proj_type='ortho')\n",
    "ax2 = fig.add_subplot(122, projection='3d', proj_type='ortho')\n",
    "ax1.scatter(pcl1[:,0], pcl1[:,1], pcl1[:,2], s=0.2)\n",
    "ax1.scatter(pcl2[:,0], pcl2[:,1], pcl2[:,2], s=0.2)\n",
    "ax2.scatter(pcl1[:,0], pcl1[:,1], pcl1[:,2], s=0.2)\n",
    "ax2.scatter(pcl3[:,0], pcl3[:,1], pcl3[:,2], s=0.2)\n",
    "plt.show()"
   ]
  }
 ],
 "metadata": {
  "kernelspec": {
   "display_name": "Python 3",
   "language": "python",
   "name": "python3"
  },
  "language_info": {
   "codemirror_mode": {
    "name": "ipython",
    "version": 3
   },
   "file_extension": ".py",
   "mimetype": "text/x-python",
   "name": "python",
   "nbconvert_exporter": "python",
   "pygments_lexer": "ipython3",
   "version": "3.8.10"
  }
 },
 "nbformat": 4,
 "nbformat_minor": 2
}
